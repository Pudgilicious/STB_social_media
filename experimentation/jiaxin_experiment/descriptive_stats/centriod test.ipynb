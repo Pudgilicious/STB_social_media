{
 "cells": [
  {
   "cell_type": "code",
   "execution_count": 4,
   "metadata": {},
   "outputs": [],
   "source": [
    "#pre-set dictionary\n",
    "#2 cat:sightseeing and hygiene\n",
    "#[花园(1,4),    \n",
    " #灯光秀(2,1),\n",
    " #干净(3,2),\n",
    " #云雾林(4,2)]"
   ]
  },
  {
   "cell_type": "code",
   "execution_count": 6,
   "metadata": {},
   "outputs": [],
   "source": [
    "#vectorize the corpus\n",
    "import pandas as pd\n",
    "import numpy as np\n",
    "sightseeing = np.array([4,1,0,2])\n",
    "hygiene = np.array([0,0,2,0])"
   ]
  },
  {
   "cell_type": "code",
   "execution_count": 8,
   "metadata": {},
   "outputs": [],
   "source": [
    "#calculate initial centroid of eaching clsuter\n",
    "c1 = np.array([4/3,1/3,0,2/3])\n",
    "c2 = np.array([0,0,2,0]) #only 1 pt, so the centroid is itself"
   ]
  },
  {
   "cell_type": "code",
   "execution_count": 11,
   "metadata": {},
   "outputs": [],
   "source": [
    "#assuming given one mor input 卫生, which suppose to be under hygiene\n",
    "#forst, loop through current dictionary cannot find match\n",
    "#expand the category dict\n",
    "sightseeing = np.array([4,1,0,2,0])\n",
    "hygiene = np.array([0,0,2,0,0])\n",
    "new = np.array([0,0,0,0,1]) #vecorize卫生\n",
    "\n",
    "c1 = np.array([4/3,1/3,0,2/3,0])\n",
    "c2 = np.array([0,0,2,0,0])"
   ]
  },
  {
   "cell_type": "code",
   "execution_count": null,
   "metadata": {},
   "outputs": [],
   "source": [
    "#calculate the distance between two centroid and the new points"
   ]
  },
  {
   "cell_type": "code",
   "execution_count": 14,
   "metadata": {},
   "outputs": [],
   "source": [
    "dist1 = np.linalg.norm(c1-new)\n",
    "dist2 = np.linalg.norm(c2-new)"
   ]
  },
  {
   "cell_type": "code",
   "execution_count": 15,
   "metadata": {},
   "outputs": [
    {
     "data": {
      "text/plain": [
       "1.8257418583505536"
      ]
     },
     "execution_count": 15,
     "metadata": {},
     "output_type": "execute_result"
    }
   ],
   "source": [
    "dist1"
   ]
  },
  {
   "cell_type": "code",
   "execution_count": 16,
   "metadata": {},
   "outputs": [
    {
     "data": {
      "text/plain": [
       "2.23606797749979"
      ]
     },
     "execution_count": 16,
     "metadata": {},
     "output_type": "execute_result"
    }
   ],
   "source": [
    "dist2"
   ]
  },
  {
   "cell_type": "code",
   "execution_count": null,
   "metadata": {},
   "outputs": [],
   "source": []
  }
 ],
 "metadata": {
  "kernelspec": {
   "display_name": "Python 3",
   "language": "python",
   "name": "python3"
  },
  "language_info": {
   "codemirror_mode": {
    "name": "ipython",
    "version": 3
   },
   "file_extension": ".py",
   "mimetype": "text/x-python",
   "name": "python",
   "nbconvert_exporter": "python",
   "pygments_lexer": "ipython3",
   "version": "3.7.4"
  }
 },
 "nbformat": 4,
 "nbformat_minor": 2
}
