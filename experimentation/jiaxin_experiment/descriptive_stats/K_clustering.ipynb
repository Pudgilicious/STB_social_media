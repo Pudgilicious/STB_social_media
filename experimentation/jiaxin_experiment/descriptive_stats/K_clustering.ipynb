{
 "cells": [
  {
   "cell_type": "code",
   "execution_count": 10,
   "metadata": {},
   "outputs": [],
   "source": [
    "#PART I : GET THE TEXT DATA, 10%\n",
    "import pandas as pd\n",
    "import numpy as np\n",
    "import os\n",
    "import string\n",
    "from string import digits\n",
    "#separate\n",
    "import jieba\n",
    "import jieba.posseg as pseg\n",
    "import re\n",
    "from os import path\n",
    "import jieba.analyse as analyse"
   ]
  },
  {
   "cell_type": "code",
   "execution_count": 15,
   "metadata": {},
   "outputs": [],
   "source": [
    "os.chdir('/home/jia/Desktop/git/STB_social_media_analytics/ctrip/200216_102752/reviews')\n",
    "data=pd.read_csv('./1.csv')\n",
    "df=data.head(int(data.shape[0]*0.1))"
   ]
  },
  {
   "cell_type": "code",
   "execution_count": 17,
   "metadata": {},
   "outputs": [
    {
     "name": "stdout",
     "output_type": "stream",
     "text": [
      "373 not exist\n"
     ]
    }
   ],
   "source": [
    "#read all the review files\n",
    "path = '/home/jia/Desktop/git/STB_social_media_analytics/ctrip/200216_102752/reviews'\n",
    "for i in range(2,519):\n",
    "    try:\n",
    "        new=pd.read_csv(path+'/{}.csv'.format(i))\n",
    "        row=int(round(new.shape[0]))\n",
    "        new= new.head(row)\n",
    "        df=df.append(new)\n",
    "    except:\n",
    "        print(str(i)+' not exist')\n",
    "        continue"
   ]
  },
  {
   "cell_type": "code",
   "execution_count": 19,
   "metadata": {},
   "outputs": [],
   "source": [
    "data=df.drop(['REVIEW_INDEX','WEBSITE_INDEX','POI_INDEX','REVIEWER_NAME','REVIEW_RATING','REVIEW_DATE',\n",
    "                'REVIEW_TIME','ATTRIBUTES_CRAWLED_TIME'],axis=1)\n",
    "string=list(map(lambda x: str(x),data['REVIEW_BODY']))"
   ]
  },
  {
   "cell_type": "code",
   "execution_count": 20,
   "metadata": {},
   "outputs": [],
   "source": [
    "#input stop words\n",
    "os.chdir('/home/jia/Desktop/git/STB_social_media_analytics/experimentation/jiaxin_experiment/descriptive_stats/data')\n",
    "stop=pd.read_csv('./stop_words.txt',header=None,index_col=False)\n",
    "stop=list(stop.iloc[:,0])"
   ]
  },
  {
   "cell_type": "code",
   "execution_count": 22,
   "metadata": {},
   "outputs": [
    {
     "name": "stderr",
     "output_type": "stream",
     "text": [
      "Paddle enabled successfully......\n"
     ]
    }
   ],
   "source": [
    "#remove stop words and separate text\n",
    "jieba.enable_paddle() #启动paddle模式。 0.40版之后开始支持，早期版本不支持\n",
    "def jiebaclearText(text,stoplist):\n",
    "    mywordlist = []\n",
    "    seg_list = pseg.cut(text, use_paddle=True)\n",
    "    for word, flag in seg_list:\n",
    "        if flag in ['v','nz','ns','LOC','ORG','vd','vn','n','LOC']:\n",
    "            if word not in stoplist:\n",
    "                mywordlist.append(word)\n",
    "    return ' '.join(mywordlist)\n",
    "\n",
    "\n",
    "pos=[]\n",
    "for i in range(len(string)):\n",
    "    pos.append(jiebaclearText(string[i],stop))"
   ]
  },
  {
   "cell_type": "code",
   "execution_count": null,
   "metadata": {},
   "outputs": [],
   "source": []
  }
 ],
 "metadata": {
  "kernelspec": {
   "display_name": "Python 3",
   "language": "python",
   "name": "python3"
  },
  "language_info": {
   "codemirror_mode": {
    "name": "ipython",
    "version": 3
   },
   "file_extension": ".py",
   "mimetype": "text/x-python",
   "name": "python",
   "nbconvert_exporter": "python",
   "pygments_lexer": "ipython3",
   "version": "3.7.4"
  }
 },
 "nbformat": 4,
 "nbformat_minor": 2
}
