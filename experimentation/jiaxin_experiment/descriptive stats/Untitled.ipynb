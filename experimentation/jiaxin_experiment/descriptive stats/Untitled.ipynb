{
 "cells": [
  {
   "cell_type": "code",
   "execution_count": 36,
   "metadata": {},
   "outputs": [
    {
     "data": {
      "text/plain": [
       "'/home/jia/Desktop/git/STB_social_media_analytics/experimentation/jiaxin_experiment/descriptive stats'"
      ]
     },
     "execution_count": 36,
     "metadata": {},
     "output_type": "execute_result"
    }
   ],
   "source": [
    "import os\n",
    "import pandas as pd\n",
    "import numpy as np\n",
    "os.getcwd()"
   ]
  },
  {
   "cell_type": "code",
   "execution_count": 37,
   "metadata": {},
   "outputs": [],
   "source": [
    "#import data\n",
    "GBB = pd.read_csv('./2.csv')\n",
    "BG = pd.read_csv('./14.csv')\n",
    "GBB_wide = pd.read_csv('./gbb.csv')\n",
    "BG_wide = pd.read_csv('./bg.csv')\n",
    "GBB_long = pd.read_csv('./GBB_long.csv')\n",
    "BG_long = pd.read_csv('./BG_long.csv')"
   ]
  },
  {
   "cell_type": "code",
   "execution_count": 38,
   "metadata": {},
   "outputs": [],
   "source": [
    "#drop the unused columns\n",
    "drop = list(GBB_long.columns)[2:19]"
   ]
  },
  {
   "cell_type": "code",
   "execution_count": 39,
   "metadata": {},
   "outputs": [],
   "source": [
    "GBB_long = GBB_long.drop(drop,axis=1)\n",
    "BG_long = BG_long.drop(drop,axis=1)"
   ]
  },
  {
   "cell_type": "code",
   "execution_count": 40,
   "metadata": {},
   "outputs": [],
   "source": [
    "drop_wide = list(GBB_wide.columns)[2:]"
   ]
  },
  {
   "cell_type": "code",
   "execution_count": 41,
   "metadata": {},
   "outputs": [],
   "source": [
    "GBB_wide = GBB_wide.drop(drop_wide,axis=1)\n",
    "BG_wide = BG_wide.drop(drop_wide,axis=1)"
   ]
  },
  {
   "cell_type": "code",
   "execution_count": 42,
   "metadata": {},
   "outputs": [],
   "source": [
    "#edit review index for data\n",
    "GBB['REVIEW_INDEX'] = list(map(lambda x: 'GBB_'+ str(x),list(range(len(GBB['REVIEW_INDEX'])))))\n",
    "BG['REVIEW_INDEX'] = list(map(lambda x: 'BG_'+ str(x),list(range(len(BG['REVIEW_INDEX'])))) )\n",
    "GBB_wide['REVIEW_INDEX'] = list(map(lambda x: 'GBB_'+ str(x),GBB_wide['REVIEW_INDEX']))\n",
    "BG_wide['REVIEW_INDEX'] = list(map(lambda x: 'BG_'+ str(x),BG_wide['REVIEW_INDEX']))\n",
    "GBB_long['REVIEW_INDEX'] = list(map(lambda x: 'GBB_'+ str(x),GBB_long['REVIEW_INDEX']))\n",
    "BG_long['REVIEW_INDEX'] = list(map(lambda x: 'BG_'+ str(x),BG_long['REVIEW_INDEX']))"
   ]
  },
  {
   "cell_type": "code",
   "execution_count": 43,
   "metadata": {},
   "outputs": [],
   "source": [
    "#group wide list together\n",
    "long=GBB_long.append(BG_long)"
   ]
  },
  {
   "cell_type": "code",
   "execution_count": 44,
   "metadata": {},
   "outputs": [
    {
     "data": {
      "text/html": [
       "<div>\n",
       "<style scoped>\n",
       "    .dataframe tbody tr th:only-of-type {\n",
       "        vertical-align: middle;\n",
       "    }\n",
       "\n",
       "    .dataframe tbody tr th {\n",
       "        vertical-align: top;\n",
       "    }\n",
       "\n",
       "    .dataframe thead th {\n",
       "        text-align: right;\n",
       "    }\n",
       "</style>\n",
       "<table border=\"1\" class=\"dataframe\">\n",
       "  <thead>\n",
       "    <tr style=\"text-align: right;\">\n",
       "      <th></th>\n",
       "      <th>REVIEW_INDEX</th>\n",
       "      <th>ASPECT</th>\n",
       "      <th>POLARITY</th>\n",
       "    </tr>\n",
       "  </thead>\n",
       "  <tbody>\n",
       "    <tr>\n",
       "      <td>0</td>\n",
       "      <td>GBB_0</td>\n",
       "      <td>滨海湾花园</td>\n",
       "      <td>POS</td>\n",
       "    </tr>\n",
       "    <tr>\n",
       "      <td>1</td>\n",
       "      <td>GBB_0</td>\n",
       "      <td>flowerdome</td>\n",
       "      <td>NEG</td>\n",
       "    </tr>\n",
       "    <tr>\n",
       "      <td>2</td>\n",
       "      <td>GBB_0</td>\n",
       "      <td>玻璃花园</td>\n",
       "      <td>POS</td>\n",
       "    </tr>\n",
       "    <tr>\n",
       "      <td>3</td>\n",
       "      <td>GBB_0</td>\n",
       "      <td>室内冷气</td>\n",
       "      <td>POS</td>\n",
       "    </tr>\n",
       "    <tr>\n",
       "      <td>4</td>\n",
       "      <td>GBB_0</td>\n",
       "      <td>非常</td>\n",
       "      <td>NEU</td>\n",
       "    </tr>\n",
       "    <tr>\n",
       "      <td>...</td>\n",
       "      <td>...</td>\n",
       "      <td>...</td>\n",
       "      <td>...</td>\n",
       "    </tr>\n",
       "    <tr>\n",
       "      <td>2408</td>\n",
       "      <td>BG_679</td>\n",
       "      <td>植物</td>\n",
       "      <td>POS</td>\n",
       "    </tr>\n",
       "    <tr>\n",
       "      <td>2409</td>\n",
       "      <td>BG_679</td>\n",
       "      <td>管理规划</td>\n",
       "      <td>POS</td>\n",
       "    </tr>\n",
       "    <tr>\n",
       "      <td>2410</td>\n",
       "      <td>BG_680</td>\n",
       "      <td>花园</td>\n",
       "      <td>POS</td>\n",
       "    </tr>\n",
       "    <tr>\n",
       "      <td>2411</td>\n",
       "      <td>BG_681</td>\n",
       "      <td>逛</td>\n",
       "      <td>NEG</td>\n",
       "    </tr>\n",
       "    <tr>\n",
       "      <td>2412</td>\n",
       "      <td>BG_682</td>\n",
       "      <td>植物园</td>\n",
       "      <td>NEG</td>\n",
       "    </tr>\n",
       "  </tbody>\n",
       "</table>\n",
       "<p>15171 rows × 3 columns</p>\n",
       "</div>"
      ],
      "text/plain": [
       "     REVIEW_INDEX      ASPECT POLARITY\n",
       "0           GBB_0       滨海湾花园      POS\n",
       "1           GBB_0  flowerdome      NEG\n",
       "2           GBB_0        玻璃花园      POS\n",
       "3           GBB_0        室内冷气      POS\n",
       "4           GBB_0          非常      NEU\n",
       "...           ...         ...      ...\n",
       "2408       BG_679          植物      POS\n",
       "2409       BG_679        管理规划      POS\n",
       "2410       BG_680          花园      POS\n",
       "2411       BG_681           逛      NEG\n",
       "2412       BG_682         植物园      NEG\n",
       "\n",
       "[15171 rows x 3 columns]"
      ]
     },
     "execution_count": 44,
     "metadata": {},
     "output_type": "execute_result"
    }
   ],
   "source": [
    "long=long.drop(['Unnamed: 0'],axis=1)\n",
    "long"
   ]
  },
  {
   "cell_type": "code",
   "execution_count": 46,
   "metadata": {},
   "outputs": [],
   "source": [
    "#wide list linked with review date\n",
    "GBB_merge=pd.merge(GBB,GBB_wide,\"inner\", on='REVIEW_INDEX')\n",
    "BG_merge=pd.merge(BG,BG_wide,\"inner\", on='REVIEW_INDEX')"
   ]
  },
  {
   "cell_type": "code",
   "execution_count": null,
   "metadata": {},
   "outputs": [],
   "source": [
    "GBB_merge.append()"
   ]
  }
 ],
 "metadata": {
  "kernelspec": {
   "display_name": "Python 3",
   "language": "python",
   "name": "python3"
  },
  "language_info": {
   "codemirror_mode": {
    "name": "ipython",
    "version": 3
   },
   "file_extension": ".py",
   "mimetype": "text/x-python",
   "name": "python",
   "nbconvert_exporter": "python",
   "pygments_lexer": "ipython3",
   "version": "3.7.4"
  }
 },
 "nbformat": 4,
 "nbformat_minor": 2
}
