{
 "cells": [
  {
   "cell_type": "code",
   "execution_count": 12,
   "metadata": {},
   "outputs": [
    {
     "name": "stderr",
     "output_type": "stream",
     "text": [
      "Paddle enabled successfully......\n"
     ]
    },
    {
     "name": "stdout",
     "output_type": "stream",
     "text": [
      "373 not exist\n"
     ]
    },
    {
     "name": "stderr",
     "output_type": "stream",
     "text": [
      "Building prefix dict from the default dictionary ...\n",
      "Loading model from cache /tmp/jieba.cache\n",
      "Loading model cost 0.657 seconds.\n",
      "Prefix dict has been built successfully.\n"
     ]
    }
   ],
   "source": [
    "import pandas as pd\n",
    "import numpy as np\n",
    "import os\n",
    "import string\n",
    "from string import digits\n",
    "#separate\n",
    "import jieba\n",
    "import jieba.posseg as pseg\n",
    "import re\n",
    "from os import path\n",
    "import jieba.analyse as analyse\n",
    "#wordcloud\n",
    "from PIL import Image\n",
    "import numpy as  np\n",
    "import matplotlib.pyplot as plt\n",
    "#词云生成工具\n",
    "from wordcloud import WordCloud,ImageColorGenerator\n",
    "#需要对中文进行处理\n",
    "import matplotlib.font_manager as fm\n",
    "jieba.enable_paddle() #启动paddle模式。 0.40版之后开始支持，早期版本不支持\n",
    "os.getcwd()\n",
    "\n",
    "\n",
    "#input data and change to string\n",
    "os.chdir('/home/jia/Desktop/git/STB_social_media_analytics/ctrip/200216_102752/reviews')\n",
    "data=pd.read_csv('./1.csv')\n",
    "\n",
    "#read all the review files\n",
    "path = '/home/jia/Desktop/git/STB_social_media_analytics/ctrip/200216_102752/reviews'\n",
    "for i in range(2,519):\n",
    "    try:\n",
    "        data=data.append(pd.read_csv(path+'/{}.csv'.format(i)))\n",
    "    except:\n",
    "        print(str(i)+' not exist')\n",
    "        continue\n",
    "    \n",
    "    \n",
    "data=data.drop(['REVIEW_INDEX','WEBSITE_INDEX','POI_INDEX','REVIEWER_NAME','REVIEW_RATING','REVIEW_DATE',\n",
    "                'REVIEW_TIME','ATTRIBUTES_CRAWLED_TIME'],axis=1)\n",
    "string1=list(map(lambda x: str(x),data['REVIEW_BODY']))\n",
    "\n",
    "#input stop words\n",
    "os.chdir('/home/jia/Desktop/git/STB_social_media_analytics/experimentation/jiaxin_experiment/descriptive_stats/data')\n",
    "stop=pd.read_csv('./stop_words.txt',header=None,index_col=False)\n",
    "stop=list(stop.iloc[:,0])\n",
    "#print(stop)\n",
    "#remove stop words and separate text\n",
    "def jiebaclearText(text,stoplist):\n",
    "    mywordlist = []\n",
    "    seg_list = pseg.cut(text, use_paddle=True)\n",
    "    for word, flag in seg_list:\n",
    "        if flag in ['v','nz','ns','LOC','ORG','vd','vn','n','LOC']:\n",
    "            if word not in stoplist:\n",
    "                mywordlist.append(word)\n",
    "    return ' '.join(mywordlist)\n",
    "\n",
    "\n",
    "pos=[]\n",
    "for i in range(len(string1)):\n",
    "    pos.append(jiebaclearText(string1[i],stop))\n",
    "\n",
    "\n",
    "text1=' '.join(pos)\n",
    "keywords = jieba.analyse.extract_tags(str(text1), topK=100, withWeight=True, allowPOS=('nr','ns','nt','nz','n','vn','v'))\n",
    "tf_idf=list(map(lambda x:x[0],keywords)) "
   ]
  },
  {
   "cell_type": "code",
   "execution_count": 11,
   "metadata": {},
   "outputs": [],
   "source": []
  },
  {
   "cell_type": "code",
   "execution_count": null,
   "metadata": {},
   "outputs": [],
   "source": []
  }
 ],
 "metadata": {
  "kernelspec": {
   "display_name": "Python 3",
   "language": "python",
   "name": "python3"
  },
  "language_info": {
   "codemirror_mode": {
    "name": "ipython",
    "version": 3
   },
   "file_extension": ".py",
   "mimetype": "text/x-python",
   "name": "python",
   "nbconvert_exporter": "python",
   "pygments_lexer": "ipython3",
   "version": "3.7.4"
  }
 },
 "nbformat": 4,
 "nbformat_minor": 2
}
