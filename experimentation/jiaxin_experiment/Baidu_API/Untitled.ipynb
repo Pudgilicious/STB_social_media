{
 "cells": [
  {
   "cell_type": "code",
   "execution_count": 26,
   "metadata": {},
   "outputs": [
    {
     "data": {
      "text/plain": [
       "'/home/jia/Desktop/git/STB_social_media_analytics/experimentation/jiaxin_experiment/Baidu_API'"
      ]
     },
     "execution_count": 26,
     "metadata": {},
     "output_type": "execute_result"
    }
   ],
   "source": [
    "import pandas as pd\n",
    "import numpy as np\n",
    "import os\n",
    "import matplotlib.pyplot as plt\n",
    "os.getcwd()"
   ]
  },
  {
   "cell_type": "code",
   "execution_count": 27,
   "metadata": {},
   "outputs": [],
   "source": [
    "Gardens_by_the_bay=pd.read_csv('./2.csv')"
   ]
  },
  {
   "cell_type": "code",
   "execution_count": 28,
   "metadata": {},
   "outputs": [
    {
     "data": {
      "text/html": [
       "<div>\n",
       "<style scoped>\n",
       "    .dataframe tbody tr th:only-of-type {\n",
       "        vertical-align: middle;\n",
       "    }\n",
       "\n",
       "    .dataframe tbody tr th {\n",
       "        vertical-align: top;\n",
       "    }\n",
       "\n",
       "    .dataframe thead th {\n",
       "        text-align: right;\n",
       "    }\n",
       "</style>\n",
       "<table border=\"1\" class=\"dataframe\">\n",
       "  <thead>\n",
       "    <tr style=\"text-align: right;\">\n",
       "      <th></th>\n",
       "      <th>REVIEW_INDEX</th>\n",
       "      <th>WEBSITE_INDEX</th>\n",
       "      <th>POI_INDEX</th>\n",
       "      <th>REVIEW_RATING</th>\n",
       "    </tr>\n",
       "  </thead>\n",
       "  <tbody>\n",
       "    <tr>\n",
       "      <td>count</td>\n",
       "      <td>0.0</td>\n",
       "      <td>3000.0</td>\n",
       "      <td>3000.0</td>\n",
       "      <td>3000.000000</td>\n",
       "    </tr>\n",
       "    <tr>\n",
       "      <td>mean</td>\n",
       "      <td>NaN</td>\n",
       "      <td>2.0</td>\n",
       "      <td>2.0</td>\n",
       "      <td>4.951667</td>\n",
       "    </tr>\n",
       "    <tr>\n",
       "      <td>std</td>\n",
       "      <td>NaN</td>\n",
       "      <td>0.0</td>\n",
       "      <td>0.0</td>\n",
       "      <td>1.084307</td>\n",
       "    </tr>\n",
       "    <tr>\n",
       "      <td>min</td>\n",
       "      <td>NaN</td>\n",
       "      <td>2.0</td>\n",
       "      <td>2.0</td>\n",
       "      <td>1.000000</td>\n",
       "    </tr>\n",
       "    <tr>\n",
       "      <td>25%</td>\n",
       "      <td>NaN</td>\n",
       "      <td>2.0</td>\n",
       "      <td>2.0</td>\n",
       "      <td>5.000000</td>\n",
       "    </tr>\n",
       "    <tr>\n",
       "      <td>50%</td>\n",
       "      <td>NaN</td>\n",
       "      <td>2.0</td>\n",
       "      <td>2.0</td>\n",
       "      <td>5.000000</td>\n",
       "    </tr>\n",
       "    <tr>\n",
       "      <td>75%</td>\n",
       "      <td>NaN</td>\n",
       "      <td>2.0</td>\n",
       "      <td>2.0</td>\n",
       "      <td>5.000000</td>\n",
       "    </tr>\n",
       "    <tr>\n",
       "      <td>max</td>\n",
       "      <td>NaN</td>\n",
       "      <td>2.0</td>\n",
       "      <td>2.0</td>\n",
       "      <td>9.000000</td>\n",
       "    </tr>\n",
       "  </tbody>\n",
       "</table>\n",
       "</div>"
      ],
      "text/plain": [
       "       REVIEW_INDEX  WEBSITE_INDEX  POI_INDEX  REVIEW_RATING\n",
       "count           0.0         3000.0     3000.0    3000.000000\n",
       "mean            NaN            2.0        2.0       4.951667\n",
       "std             NaN            0.0        0.0       1.084307\n",
       "min             NaN            2.0        2.0       1.000000\n",
       "25%             NaN            2.0        2.0       5.000000\n",
       "50%             NaN            2.0        2.0       5.000000\n",
       "75%             NaN            2.0        2.0       5.000000\n",
       "max             NaN            2.0        2.0       9.000000"
      ]
     },
     "execution_count": 28,
     "metadata": {},
     "output_type": "execute_result"
    }
   ],
   "source": [
    "Gardens_by_the_bay.describe()"
   ]
  },
  {
   "cell_type": "code",
   "execution_count": 29,
   "metadata": {},
   "outputs": [
    {
     "data": {
      "text/html": [
       "<div>\n",
       "<style scoped>\n",
       "    .dataframe tbody tr th:only-of-type {\n",
       "        vertical-align: middle;\n",
       "    }\n",
       "\n",
       "    .dataframe tbody tr th {\n",
       "        vertical-align: top;\n",
       "    }\n",
       "\n",
       "    .dataframe thead th {\n",
       "        text-align: right;\n",
       "    }\n",
       "</style>\n",
       "<table border=\"1\" class=\"dataframe\">\n",
       "  <thead>\n",
       "    <tr style=\"text-align: right;\">\n",
       "      <th></th>\n",
       "      <th>REVIEW_INDEX</th>\n",
       "      <th>WEBSITE_INDEX</th>\n",
       "      <th>POI_INDEX</th>\n",
       "      <th>REVIEWER_NAME</th>\n",
       "      <th>REVIEW_RATING</th>\n",
       "      <th>REVIEW_DATE</th>\n",
       "      <th>REVIEW_TIME</th>\n",
       "      <th>REVIEW_BODY</th>\n",
       "      <th>ATTRIBUTES_CRAWLED_TIME</th>\n",
       "    </tr>\n",
       "  </thead>\n",
       "  <tbody>\n",
       "    <tr>\n",
       "      <td>0</td>\n",
       "      <td>NaN</td>\n",
       "      <td>2</td>\n",
       "      <td>2</td>\n",
       "      <td>谢大人</td>\n",
       "      <td>5</td>\n",
       "      <td>2019-10-06</td>\n",
       "      <td>17:06</td>\n",
       "      <td>新加坡被誉为“花园城市”果然名副其实，这次旅行深有体会，而对滨海湾花园尤为印象深刻。 地理位...</td>\n",
       "      <td>2020-02-16 10:44:40.251701</td>\n",
       "    </tr>\n",
       "    <tr>\n",
       "      <td>1</td>\n",
       "      <td>NaN</td>\n",
       "      <td>2</td>\n",
       "      <td>2</td>\n",
       "      <td>spencerS</td>\n",
       "      <td>4</td>\n",
       "      <td>2018-12-23</td>\n",
       "      <td>17:32</td>\n",
       "      <td>滨海湾这个地方是来新加坡怎么都绕不开的地方了，不论是去景点打卡，金沙购物吃饭还是乘车经过都看...</td>\n",
       "      <td>2020-02-16 10:44:40.255176</td>\n",
       "    </tr>\n",
       "    <tr>\n",
       "      <td>2</td>\n",
       "      <td>NaN</td>\n",
       "      <td>2</td>\n",
       "      <td>2</td>\n",
       "      <td>BetTerDAY</td>\n",
       "      <td>5</td>\n",
       "      <td>2020-02-04</td>\n",
       "      <td>22:04</td>\n",
       "      <td>滨海湾花园内有两个植物温室，以钢铁和玻璃为主要结构，最大程度上优化了观景视野，并加强了陆地和...</td>\n",
       "      <td>2020-02-16 10:44:40.258510</td>\n",
       "    </tr>\n",
       "    <tr>\n",
       "      <td>3</td>\n",
       "      <td>NaN</td>\n",
       "      <td>2</td>\n",
       "      <td>2</td>\n",
       "      <td>西门吹水1</td>\n",
       "      <td>5</td>\n",
       "      <td>2019-12-31</td>\n",
       "      <td>13:28</td>\n",
       "      <td>海湾花园是新加坡的最新地标，也是城市花园和节能设计的典型代表。前一天晚上，住在金沙酒店，欣赏...</td>\n",
       "      <td>2020-02-16 10:44:40.261642</td>\n",
       "    </tr>\n",
       "    <tr>\n",
       "      <td>4</td>\n",
       "      <td>NaN</td>\n",
       "      <td>2</td>\n",
       "      <td>2</td>\n",
       "      <td>linazhu</td>\n",
       "      <td>5</td>\n",
       "      <td>2019-12-20</td>\n",
       "      <td>20:36</td>\n",
       "      <td>这个公园平时是不要门票的，但12月12号到圣诞节期间的晚上，由于有圣诞夜市所以需要单独购买门...</td>\n",
       "      <td>2020-02-16 10:44:40.264759</td>\n",
       "    </tr>\n",
       "  </tbody>\n",
       "</table>\n",
       "</div>"
      ],
      "text/plain": [
       "   REVIEW_INDEX  WEBSITE_INDEX  POI_INDEX REVIEWER_NAME  REVIEW_RATING  \\\n",
       "0           NaN              2          2           谢大人              5   \n",
       "1           NaN              2          2      spencerS              4   \n",
       "2           NaN              2          2     BetTerDAY              5   \n",
       "3           NaN              2          2         西门吹水1              5   \n",
       "4           NaN              2          2       linazhu              5   \n",
       "\n",
       "  REVIEW_DATE REVIEW_TIME                                        REVIEW_BODY  \\\n",
       "0  2019-10-06       17:06  新加坡被誉为“花园城市”果然名副其实，这次旅行深有体会，而对滨海湾花园尤为印象深刻。 地理位...   \n",
       "1  2018-12-23       17:32  滨海湾这个地方是来新加坡怎么都绕不开的地方了，不论是去景点打卡，金沙购物吃饭还是乘车经过都看...   \n",
       "2  2020-02-04       22:04  滨海湾花园内有两个植物温室，以钢铁和玻璃为主要结构，最大程度上优化了观景视野，并加强了陆地和...   \n",
       "3  2019-12-31       13:28  海湾花园是新加坡的最新地标，也是城市花园和节能设计的典型代表。前一天晚上，住在金沙酒店，欣赏...   \n",
       "4  2019-12-20       20:36  这个公园平时是不要门票的，但12月12号到圣诞节期间的晚上，由于有圣诞夜市所以需要单独购买门...   \n",
       "\n",
       "      ATTRIBUTES_CRAWLED_TIME  \n",
       "0  2020-02-16 10:44:40.251701  \n",
       "1  2020-02-16 10:44:40.255176  \n",
       "2  2020-02-16 10:44:40.258510  \n",
       "3  2020-02-16 10:44:40.261642  \n",
       "4  2020-02-16 10:44:40.264759  "
      ]
     },
     "execution_count": 29,
     "metadata": {},
     "output_type": "execute_result"
    }
   ],
   "source": [
    "Gardens_by_the_bay.head()"
   ]
  },
  {
   "cell_type": "code",
   "execution_count": 30,
   "metadata": {},
   "outputs": [],
   "source": [
    "Gardens_by_the_bay=Gardens_by_the_bay.sort_values(['REVIEW_DATE','REVIEW_TIME'])"
   ]
  },
  {
   "cell_type": "code",
   "execution_count": 31,
   "metadata": {},
   "outputs": [],
   "source": [
    "Gardens_by_the_bay['month'] = pd.to_datetime(Gardens_by_the_bay['REVIEW_DATE']).dt.to_period('M')"
   ]
  },
  {
   "cell_type": "code",
   "execution_count": 25,
   "metadata": {},
   "outputs": [
    {
     "data": {
      "text/plain": [
       "<matplotlib.axes._subplots.AxesSubplot at 0x7ff9c42b4810>"
      ]
     },
     "execution_count": 25,
     "metadata": {},
     "output_type": "execute_result"
    },
    {
     "data": {
      "image/png": "[encoded data removed]",
      "text/plain": [
       "<Figure size 1080x1080 with 1 Axes>"
      ]
     },
     "metadata": {
      "needs_background": "light"
     },
     "output_type": "display_data"
    }
   ],
   "source": [
    "Gardens_by_the_bay.groupby('month')['month'].count().plot.bar(figsize=(15,15))"
   ]
  },
  {
   "cell_type": "code",
   "execution_count": null,
   "metadata": {},
   "outputs": [],
   "source": []
  }
 ],
 "metadata": {
  "kernelspec": {
   "display_name": "Python 3",
   "language": "python",
   "name": "python3"
  },
  "language_info": {
   "codemirror_mode": {
    "name": "ipython",
    "version": 3
   },
   "file_extension": ".py",
   "mimetype": "text/x-python",
   "name": "python",
   "nbconvert_exporter": "python",
   "pygments_lexer": "ipython3",
   "version": "3.7.4"
  }
 },
 "nbformat": 4,
 "nbformat_minor": 2
}
