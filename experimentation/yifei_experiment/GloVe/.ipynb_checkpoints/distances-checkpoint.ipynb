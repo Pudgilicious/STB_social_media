{
 "cells": [
  {
   "cell_type": "code",
   "execution_count": 8,
   "metadata": {},
   "outputs": [],
   "source": [
    "import os\n",
    "import numpy as np\n",
    "import pandas as pd\n",
    "os.chdir('/home/zyf0717/git/STB_social_media_analytics/common_class_functions')\n",
    "from get_dist_sim import get_parsed_dfs, get_final_dfs\n",
    "os.chdir('/home/zyf0717/git/STB_social_media_analytics')"
   ]
  },
  {
   "cell_type": "code",
   "execution_count": 9,
   "metadata": {},
   "outputs": [],
   "source": [
    "path_to_text = './experimentation/yifei_experiment/GloVe/vectors.txt'\n",
    "path_to_excel = './experimentation/yifei_experiment/GloVe/20200304_Aspects_Annotation.xlsx'\n",
    "train_size = 400\n",
    "annotated_size = 500\n",
    "word_count_limit = 5"
   ]
  },
  {
   "cell_type": "code",
   "execution_count": 10,
   "metadata": {},
   "outputs": [
    {
     "name": "stdout",
     "output_type": "stream",
     "text": [
      "Reading txt...\n",
      "\n",
      "Reading xlsx...\n",
      "\n",
      "vectors_df shape: (20631, 301)\n",
      "keywords_df shape: (20631, 6)\n",
      "\n",
      "Number of keywords per category used for centroids:\n",
      "Activities: 14\n",
      "Environment and Ambience: 24\n",
      "Experience: 24\n",
      "F&B: 19\n",
      "Facilities: 6\n",
      "Family/Children family/ Friends: 13\n",
      "Price: 13\n",
      "Service: 3\n",
      "Shopping: 7\n",
      "Sightseeing/ Place: 103\n",
      "Transportation and Accessibility: 51\n",
      "\n",
      "11 centroids found.\n",
      "\n",
      "Calculating accuracies...\n",
      "Accuracy: 0.5\n",
      "Accuracy: 0.532258064516129\n",
      "Accuracy: 0.532258064516129\n",
      "Accuracy: 0.3225806451612903\n",
      "\n"
     ]
    }
   ],
   "source": [
    "manhattan_df, euclidean_df, cos_sim_df, corr_df = get_final_dfs(\n",
    "    path_to_text,\n",
    "    path_to_excel,\n",
    "    train_size=400,\n",
    "    annotated_size=500,\n",
    "    categories=None,\n",
    "    word_count_limit=5\n",
    ")"
   ]
  },
  {
   "cell_type": "code",
   "execution_count": null,
   "metadata": {},
   "outputs": [],
   "source": []
  }
 ],
 "metadata": {
  "kernelspec": {
   "display_name": "Python 3",
   "language": "python",
   "name": "python3"
  },
  "language_info": {
   "codemirror_mode": {
    "name": "ipython",
    "version": 3
   },
   "file_extension": ".py",
   "mimetype": "text/x-python",
   "name": "python",
   "nbconvert_exporter": "python",
   "pygments_lexer": "ipython3",
   "version": "3.7.4"
  }
 },
 "nbformat": 4,
 "nbformat_minor": 4
}
