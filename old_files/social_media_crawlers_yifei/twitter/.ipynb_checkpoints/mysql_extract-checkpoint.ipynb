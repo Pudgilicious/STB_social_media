{
 "cells": [
  {
   "cell_type": "code",
   "execution_count": 1,
   "metadata": {},
   "outputs": [],
   "source": [
    "import pandas as pd\n",
    "import numpy as np\n",
    "import mysql.connector\n",
    "import sqlalchemy"
   ]
  },
  {
   "cell_type": "code",
   "execution_count": 2,
   "metadata": {},
   "outputs": [
    {
     "name": "stdout",
     "output_type": "stream",
     "text": [
      "Connection to database is successful\n"
     ]
    }
   ],
   "source": [
    "try:\n",
    "    cnx = mysql.connector.connect(host=\"localhost\", \n",
    "                                  database=\"sentimentDB\", \n",
    "                                  user=\"test_user\", \n",
    "                                  password=\"Password123!\")\n",
    "    if cnx.is_connected():\n",
    "        print(\"Connection to database is successful.\")\n",
    "\n",
    "except mysql.connector.Error as err:\n",
    "    if err.errno == errorcode.ER_ACCESS_DENIED_ERROR:\n",
    "        print(\"Something is wrong with your user name or password.\")\n",
    "    elif err.errno == errorcode.ER_BAD_DB_ERROR:\n",
    "        print(\"Database does not exist.\")\n",
    "    else:\n",
    "        print(err)"
   ]
  },
  {
   "cell_type": "code",
   "execution_count": 3,
   "metadata": {},
   "outputs": [
    {
     "name": "stdout",
     "output_type": "stream",
     "text": [
      "835\n"
     ]
    },
    {
     "data": {
      "text/plain": [
       "['great memories with flower , Garden by the bay Singapore pic.twitter.com/uP4RU25VWP',\n",
       " 'Part 2 - Gardens by the Bay \\n.\\nGet to visits Flower Dome & Cloud Forest. So refreshing & the view was awesome from the top. At night, got to catch the Garden Rhapsody light & the… https://www.instagram.com/p/B42M6YTgTHcg5vkdpskTg6PjdYNdNQHr1f9j480/?igshid=mcmw0t8ausht\\xa0…',\n",
       " 'Just posted a photo @ Supertree Grove, Gardens by the Bay https://www.instagram.com/p/B42TaI0hz9J/?igshid=16uw4ebcngqyb\\xa0…',\n",
       " 'Supertree# Light show# Gardens by the bay @ Singapore, Singapore https://www.instagram.com/p/B411FxAJnGb/?igshid=4za2dsw3oego\\xa0…',\n",
       " \"Fun times...., It's good to be kiddish  again with your kid... @ Gardens by the Bay https://www.instagram.com/p/B41tb8lgjn6oD11ANoOpiClOuSTPRZPrQmzkMk0/?igshid=zbz8sv7wxdtt\\xa0…\",\n",
       " 'Enjoyed Gardens by the Bay! Lovely plants can be found here.  pic.twitter.com/IPcOK0mlef',\n",
       " 'Gardens by the Bay. pic.twitter.com/O1BVGNzAqT',\n",
       " 'Say hello to me  @ Garden By The Bay, Marina Bay Sands https://www.instagram.com/p/B4wkdnRASrU4xJKYmrjsmbqrXF43Ipsdxmrb6M0/?igshid=wzxp3a871bu5\\xa0…',\n",
       " 'Since when did Gardens by the Bay get an update  https://twitter.com/mashable/status/1194662960863404032\\xa0…',\n",
       " 'zanardast USS was a must. Gardens by the bay was one must watch']"
      ]
     },
     "execution_count": 3,
     "metadata": {},
     "output_type": "execute_result"
    }
   ],
   "source": [
    "cursor = cnx.cursor()\n",
    "cursor.execute(\n",
    "    \"\"\"\n",
    "    SELECT * FROM tweets;\n",
    "    \"\"\"\n",
    ")\n",
    "\n",
    "L = []\n",
    "for i in cursor:\n",
    "    L.append(i[2])\n",
    "\n",
    "print(len(L))\n",
    "L[:10]"
   ]
  },
  {
   "cell_type": "code",
   "execution_count": 4,
   "metadata": {},
   "outputs": [
    {
     "name": "stdout",
     "output_type": "stream",
     "text": [
      "(836, 10)\n"
     ]
    },
    {
     "data": {
      "text/plain": [
       "0    I'm at Vintage Cameras Museum in Singapore htt...\n",
       "1    Coming up next month. Designing for the Future...\n",
       "2    This week I will be speaking about quantum err...\n",
       "3    No Monday blues when your b-school is itself s...\n",
       "4    OPENING NIGHT! Welcome to the Dastak Theatre F...\n",
       "Name: text, dtype: object"
      ]
     },
     "execution_count": 4,
     "metadata": {},
     "output_type": "execute_result"
    }
   ],
   "source": [
    "df = pd.read_csv(\"tweets.csv\")\n",
    "df.rename(columns = {'Unnamed: 0':'index'}, inplace = True)\n",
    "print(df.shape)\n",
    "df[\"text\"].head()"
   ]
  },
  {
   "cell_type": "code",
   "execution_count": 5,
   "metadata": {},
   "outputs": [
    {
     "name": "stdout",
     "output_type": "stream",
     "text": [
      "Our 𝐥𝐚𝐫𝐠𝐞𝐬𝐭 #mall, #Suzhou Center Mall, had its 2nd anni recently! It is 3x the size of ION Orchard and welcomed more than  mil #shoppers since launch in '17. That's about 𝗘𝗩𝗘𝗥𝗬𝗢𝗡𝗘 in SG visiting the mall >𝟮𝟬𝘅!! \n",
      "\n",
      "http://bit.ly/suzhoucenter pic.twitter.com/lWI2lk8XF7\n"
     ]
    }
   ],
   "source": [
    "K = list(df[\"text\"])\n",
    "J = []\n",
    "for i in K:\n",
    "    if i not in L:\n",
    "        print(i)"
   ]
  },
  {
   "cell_type": "code",
   "execution_count": null,
   "metadata": {},
   "outputs": [],
   "source": []
  }
 ],
 "metadata": {
  "kernelspec": {
   "display_name": "Python 3",
   "language": "python",
   "name": "python3"
  },
  "language_info": {
   "codemirror_mode": {
    "name": "ipython",
    "version": 3
   },
   "file_extension": ".py",
   "mimetype": "text/x-python",
   "name": "python",
   "nbconvert_exporter": "python",
   "pygments_lexer": "ipython3",
   "version": "3.7.4"
  }
 },
 "nbformat": 4,
 "nbformat_minor": 4
}
