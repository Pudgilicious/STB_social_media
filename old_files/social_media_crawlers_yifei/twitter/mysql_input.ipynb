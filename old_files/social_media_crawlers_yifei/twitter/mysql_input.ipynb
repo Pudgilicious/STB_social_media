{
 "cells": [
  {
   "cell_type": "code",
   "execution_count": 69,
   "metadata": {},
   "outputs": [],
   "source": [
    "import pandas as pd\n",
    "import numpy as np\n",
    "import mysql.connector\n",
    "import sqlalchemy\n",
    "import datetime"
   ]
  },
  {
   "cell_type": "code",
   "execution_count": 70,
   "metadata": {},
   "outputs": [
    {
     "name": "stdout",
     "output_type": "stream",
     "text": [
      "Connection to database is successful.\n"
     ]
    }
   ],
   "source": [
    "try:\n",
    "    cnx = mysql.connector.connect(host=\"localhost\", \n",
    "                                  database=\"sentimentDB\", \n",
    "                                  user=\"test_user\", \n",
    "                                  password=\"Password123!\")    \n",
    "    if cnx.is_connected():\n",
    "        print(\"Connection to database is successful.\")\n",
    "        cnx.cursor().execute('SET NAMES utf8mb4')\n",
    "\n",
    "except mysql.connector.Error as err:\n",
    "    if err.errno == errorcode.ER_ACCESS_DENIED_ERROR:\n",
    "        print(\"Something is wrong with your user name or password.\")\n",
    "    elif err.errno == errorcode.ER_BAD_DB_ERROR:\n",
    "        print(\"Database does not exist.\")\n",
    "    else:\n",
    "        print(err)"
   ]
  },
  {
   "cell_type": "code",
   "execution_count": 73,
   "metadata": {},
   "outputs": [],
   "source": [
    "def convert_datetime(date_time_str):\n",
    "    return str(datetime.datetime.strptime(date_time_str, '%I:%M %p - %d %b %Y'))\n",
    "\n",
    "number_id = \"1600541437\"\n",
    "screen_name = \"test1\"\n",
    "user_name = \"test2\"\n",
    "i = \"test3\"\n",
    "converted_datetime = convert_datetime(\"3:39 am - 13 Nov 2019\")\n",
    "text_db = r\"Our 𝐥𝐚𝐫𝐠𝐞𝐬𝐭 #mall, #Suzhou Center Mall, had its 2nd anni recently! It is 3x the size of ION Orchard and welcomed more than  mil #shoppers since launch in '17. That's about 𝗘𝗩𝗘𝗥𝗬𝗢𝗡𝗘 in SG visiting the mall >𝟮𝟬𝘅!!\"\n",
    "\n",
    "cnx.cursor().execute('SET NAMES utf8mb4')\n",
    "cnx.cursor().execute(\n",
    "    \"\"\"\n",
    "    INSERT INTO tweets (\n",
    "        number_id,\n",
    "        screen_name,\n",
    "        user_name,\n",
    "        keyword,\n",
    "        posted_time,\n",
    "        tweet\n",
    "        )\n",
    "    VALUES ({}, {}, {}, {}, {}, {});\n",
    "    \"\"\".format(\n",
    "        '\"' + number_id + '\"',\n",
    "        '\"' + screen_name + '\"',\n",
    "        '\"' + user_name + '\"',\n",
    "        '\"' + i + '\"',\n",
    "        '\"' + converted_datetime + '\"',\n",
    "        '\"' + text_db + '\"'\n",
    "        )\n",
    ")\n",
    "\n",
    "cnx.commit()"
   ]
  },
  {
   "cell_type": "code",
   "execution_count": 48,
   "metadata": {},
   "outputs": [],
   "source": [
    "cnx.close()"
   ]
  },
  {
   "cell_type": "code",
   "execution_count": null,
   "metadata": {},
   "outputs": [],
   "source": []
  }
 ],
 "metadata": {
  "kernelspec": {
   "display_name": "Python 3",
   "language": "python",
   "name": "python3"
  },
  "language_info": {
   "codemirror_mode": {
    "name": "ipython",
    "version": 3
   },
   "file_extension": ".py",
   "mimetype": "text/x-python",
   "name": "python",
   "nbconvert_exporter": "python",
   "pygments_lexer": "ipython3",
   "version": "3.7.4"
  }
 },
 "nbformat": 4,
 "nbformat_minor": 4
}
