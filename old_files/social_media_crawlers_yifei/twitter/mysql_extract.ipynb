{
 "cells": [
  {
   "cell_type": "code",
   "execution_count": 35,
   "metadata": {},
   "outputs": [],
   "source": [
    "import pandas as pd\n",
    "import numpy as np\n",
    "import mysql.connector\n",
    "import sqlalchemy"
   ]
  },
  {
   "cell_type": "code",
   "execution_count": 36,
   "metadata": {},
   "outputs": [
    {
     "name": "stdout",
     "output_type": "stream",
     "text": [
      "Connection to database is successful.\n"
     ]
    }
   ],
   "source": [
    "try:\n",
    "    cnx = mysql.connector.connect(host=\"localhost\", \n",
    "                                  database=\"sentimentDB\", \n",
    "                                  user=\"test_user\", \n",
    "                                  password=\"Password123!\")\n",
    "    if cnx.is_connected():\n",
    "        print(\"Connection to database is successful.\")\n",
    "        cnx.cursor().execute('SET NAMES utf8mb4')\n",
    "\n",
    "except mysql.connector.Error as err:\n",
    "    if err.errno == errorcode.ER_ACCESS_DENIED_ERROR:\n",
    "        print(\"Something is wrong with your user name or password.\")\n",
    "    elif err.errno == errorcode.ER_BAD_DB_ERROR:\n",
    "        print(\"Database does not exist.\")\n",
    "    else:\n",
    "        print(err)"
   ]
  },
  {
   "cell_type": "code",
   "execution_count": 37,
   "metadata": {},
   "outputs": [
    {
     "name": "stdout",
     "output_type": "stream",
     "text": [
      "474\n"
     ]
    },
    {
     "data": {
      "text/plain": [
       "['Damm I want to go !! Take some pictures ! \\nTapi tk de teman haiss \\n\\nChristmas Wonderland returns to Gardens by the Bay Nov. 29 to Dec. 26, 2019 https://mothership.sg/2019/11/christmas-wonderland-gardens-by-the-bay/\\xa0…',\n",
       " \"Meet & Greet Art R'eev \\nBayfront Pop-Up Market: Handicrafts and Artisans\\nGardens By The Bay \\n16 & 17 Nov 11am-9pm\",\n",
       " 'Come & Visit Art R\\'eev\\'s Art Booth No: 15.\\n\\nHANDICRAFTS & ARTISANS\\n@Bayfront Pop-Up Market\\nGardens By The Bay,\\nBayfront Plaza,\\nBayfront Pavillion\\n18 Marina Gardens Drive\\nSingapore 018953\\n\\n16 & 17 Nov 2019\\nSat & Sun\\n11am-9pm\\n\\nSay \"Hi..!!\" To Art... https://www.facebook.com/100003946650396/posts/1613363635471843/\\xa0…',\n",
       " 'Supertree# Light show# Gardens by the bay @ Singapore, Singapore https://www.instagram.com/p/B411FxAJnGb/?igshid=4za2dsw3oego\\xa0…',\n",
       " 'twas a good 22nd burstday  @ Gardens by the Bay https://www.instagram.com/p/B47sRoaB8pKnMGYZymIhGeontPATyO8sBoka9w0/?igshid=1tpduh187rtq5\\xa0…']"
      ]
     },
     "execution_count": 37,
     "metadata": {},
     "output_type": "execute_result"
    }
   ],
   "source": [
    "cursor = cnx.cursor()\n",
    "cursor.execute(\n",
    "    \"\"\"\n",
    "    SELECT * FROM tweets;\n",
    "    \"\"\"\n",
    ")\n",
    "\n",
    "L = []\n",
    "for i in cursor:\n",
    "    L.append(i[6])\n",
    "\n",
    "print(len(L))\n",
    "L[:5]"
   ]
  },
  {
   "cell_type": "code",
   "execution_count": 38,
   "metadata": {},
   "outputs": [
    {
     "name": "stdout",
     "output_type": "stream",
     "text": [
      "(500, 10)\n"
     ]
    }
   ],
   "source": [
    "df = pd.read_csv(\"tweets.csv\")\n",
    "df.rename(columns = {'Unnamed: 0':'index'}, inplace = True)\n",
    "print(df.shape)"
   ]
  },
  {
   "cell_type": "code",
   "execution_count": 39,
   "metadata": {},
   "outputs": [],
   "source": [
    "K = list(df[\"text\"])\n",
    "for i in K:\n",
    "    if i not in L:\n",
    "        print(i)"
   ]
  },
  {
   "cell_type": "code",
   "execution_count": null,
   "metadata": {},
   "outputs": [],
   "source": []
  }
 ],
 "metadata": {
  "kernelspec": {
   "display_name": "Python 3",
   "language": "python",
   "name": "python3"
  },
  "language_info": {
   "codemirror_mode": {
    "name": "ipython",
    "version": 3
   },
   "file_extension": ".py",
   "mimetype": "text/x-python",
   "name": "python",
   "nbconvert_exporter": "python",
   "pygments_lexer": "ipython3",
   "version": "3.7.4"
  }
 },
 "nbformat": 4,
 "nbformat_minor": 4
}
