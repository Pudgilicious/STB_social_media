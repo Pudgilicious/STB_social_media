{
 "cells": [
  {
   "cell_type": "code",
   "execution_count": 11,
   "metadata": {},
   "outputs": [],
   "source": [
    "import pandas as pd"
   ]
  },
  {
   "cell_type": "code",
   "execution_count": 12,
   "metadata": {},
   "outputs": [],
   "source": [
    "annotation=pd.read_csv('./finalised_output/vocab.csv')  #annotated keywords with count >=5"
   ]
  },
  {
   "cell_type": "code",
   "execution_count": 13,
   "metadata": {},
   "outputs": [],
   "source": [
    "IBM=pd.read_csv('./finalised_output/sentiment/sentiments_200303_085230/1_keywords_200303_085230.csv')"
   ]
  },
  {
   "cell_type": "code",
   "execution_count": 14,
   "metadata": {},
   "outputs": [],
   "source": [
    "ibm=IBM.drop(['SADNESS','JOY','FEAR','DISGUST','ANGER','MIXED_SENTIMENT'],axis=1)"
   ]
  },
  {
   "cell_type": "code",
   "execution_count": 17,
   "metadata": {},
   "outputs": [],
   "source": [
    "merged=ibm.merge(annotation, how=\"left\",on='TEXT') #same length with ibm"
   ]
  },
  {
   "cell_type": "code",
   "execution_count": 37,
   "metadata": {},
   "outputs": [
    {
     "data": {
      "text/html": [
       "<div>\n",
       "<style scoped>\n",
       "    .dataframe tbody tr th:only-of-type {\n",
       "        vertical-align: middle;\n",
       "    }\n",
       "\n",
       "    .dataframe tbody tr th {\n",
       "        vertical-align: top;\n",
       "    }\n",
       "\n",
       "    .dataframe thead th {\n",
       "        text-align: right;\n",
       "    }\n",
       "</style>\n",
       "<table border=\"1\" class=\"dataframe\">\n",
       "  <thead>\n",
       "    <tr style=\"text-align: right;\">\n",
       "      <th></th>\n",
       "      <th>WEBSITE_ID</th>\n",
       "      <th>REVIEW_ID</th>\n",
       "      <th>TEXT</th>\n",
       "      <th>RELEVANCE</th>\n",
       "      <th>COUNT_x</th>\n",
       "      <th>SENTIMENT_SCORE</th>\n",
       "      <th>SENTIMENT_LABEL</th>\n",
       "      <th>COUNT_y</th>\n",
       "      <th>SENTIMENT_KEYWORD_AGG_INDEX</th>\n",
       "      <th>ASPECT_CATEGORY_NAME</th>\n",
       "      <th>ASPECT_CATEGORY</th>\n",
       "      <th>REQUIRE_CONTEXT</th>\n",
       "    </tr>\n",
       "  </thead>\n",
       "  <tbody>\n",
       "    <tr>\n",
       "      <td>0</td>\n",
       "      <td>2</td>\n",
       "      <td>0</td>\n",
       "      <td>新加坡环球影城</td>\n",
       "      <td>0.834080</td>\n",
       "      <td>2</td>\n",
       "      <td>0.000000</td>\n",
       "      <td>neutral</td>\n",
       "      <td>249.0</td>\n",
       "      <td>177.0</td>\n",
       "      <td>POI/Places</td>\n",
       "      <td>NaN</td>\n",
       "      <td>NaN</td>\n",
       "    </tr>\n",
       "    <tr>\n",
       "      <td>1</td>\n",
       "      <td>2</td>\n",
       "      <td>0</td>\n",
       "      <td>沙名胜世界</td>\n",
       "      <td>0.733386</td>\n",
       "      <td>1</td>\n",
       "      <td>0.000000</td>\n",
       "      <td>neutral</td>\n",
       "      <td>203.0</td>\n",
       "      <td>231.0</td>\n",
       "      <td>POI/Places</td>\n",
       "      <td>NaN</td>\n",
       "      <td>NaN</td>\n",
       "    </tr>\n",
       "    <tr>\n",
       "      <td>2</td>\n",
       "      <td>2</td>\n",
       "      <td>0</td>\n",
       "      <td>个景点</td>\n",
       "      <td>0.653317</td>\n",
       "      <td>1</td>\n",
       "      <td>0.000000</td>\n",
       "      <td>neutral</td>\n",
       "      <td>41.0</td>\n",
       "      <td>1204.0</td>\n",
       "      <td>POI/Places</td>\n",
       "      <td>NaN</td>\n",
       "      <td>NaN</td>\n",
       "    </tr>\n",
       "    <tr>\n",
       "      <td>3</td>\n",
       "      <td>2</td>\n",
       "      <td>0</td>\n",
       "      <td>古埃及</td>\n",
       "      <td>0.649083</td>\n",
       "      <td>1</td>\n",
       "      <td>0.824111</td>\n",
       "      <td>positive</td>\n",
       "      <td>46.0</td>\n",
       "      <td>1089.0</td>\n",
       "      <td>Activities</td>\n",
       "      <td>NaN</td>\n",
       "      <td>1.0</td>\n",
       "    </tr>\n",
       "    <tr>\n",
       "      <td>4</td>\n",
       "      <td>2</td>\n",
       "      <td>0</td>\n",
       "      <td>环球影城主题公园</td>\n",
       "      <td>0.568189</td>\n",
       "      <td>1</td>\n",
       "      <td>0.000000</td>\n",
       "      <td>neutral</td>\n",
       "      <td>13.0</td>\n",
       "      <td>3520.0</td>\n",
       "      <td>POI/Places</td>\n",
       "      <td>NaN</td>\n",
       "      <td>NaN</td>\n",
       "    </tr>\n",
       "    <tr>\n",
       "      <td>5</td>\n",
       "      <td>2</td>\n",
       "      <td>0</td>\n",
       "      <td>东南亚首个</td>\n",
       "      <td>0.551388</td>\n",
       "      <td>1</td>\n",
       "      <td>0.000000</td>\n",
       "      <td>neutral</td>\n",
       "      <td>13.0</td>\n",
       "      <td>3392.0</td>\n",
       "      <td>NaN</td>\n",
       "      <td>NaN</td>\n",
       "      <td>NaN</td>\n",
       "    </tr>\n",
       "    <tr>\n",
       "      <td>6</td>\n",
       "      <td>2</td>\n",
       "      <td>0</td>\n",
       "      <td>过山车的特效</td>\n",
       "      <td>0.513862</td>\n",
       "      <td>1</td>\n",
       "      <td>0.974776</td>\n",
       "      <td>positive</td>\n",
       "      <td>NaN</td>\n",
       "      <td>NaN</td>\n",
       "      <td>NaN</td>\n",
       "      <td>NaN</td>\n",
       "      <td>NaN</td>\n",
       "    </tr>\n",
       "    <tr>\n",
       "      <td>7</td>\n",
       "      <td>2</td>\n",
       "      <td>0</td>\n",
       "      <td>世界主题区</td>\n",
       "      <td>0.489102</td>\n",
       "      <td>1</td>\n",
       "      <td>0.824111</td>\n",
       "      <td>positive</td>\n",
       "      <td>NaN</td>\n",
       "      <td>NaN</td>\n",
       "      <td>NaN</td>\n",
       "      <td>NaN</td>\n",
       "      <td>NaN</td>\n",
       "    </tr>\n",
       "    <tr>\n",
       "      <td>8</td>\n",
       "      <td>2</td>\n",
       "      <td>0</td>\n",
       "      <td>的人来说</td>\n",
       "      <td>0.469503</td>\n",
       "      <td>1</td>\n",
       "      <td>0.974776</td>\n",
       "      <td>positive</td>\n",
       "      <td>18.0</td>\n",
       "      <td>2636.0</td>\n",
       "      <td>Experience</td>\n",
       "      <td>NaN</td>\n",
       "      <td>NaN</td>\n",
       "    </tr>\n",
       "    <tr>\n",
       "      <td>9</td>\n",
       "      <td>2</td>\n",
       "      <td>0</td>\n",
       "      <td>变形金刚</td>\n",
       "      <td>0.446610</td>\n",
       "      <td>1</td>\n",
       "      <td>0.974776</td>\n",
       "      <td>positive</td>\n",
       "      <td>526.0</td>\n",
       "      <td>78.0</td>\n",
       "      <td>Activities</td>\n",
       "      <td>NaN</td>\n",
       "      <td>NaN</td>\n",
       "    </tr>\n",
       "  </tbody>\n",
       "</table>\n",
       "</div>"
      ],
      "text/plain": [
       "   WEBSITE_ID  REVIEW_ID      TEXT  RELEVANCE  COUNT_x  SENTIMENT_SCORE  \\\n",
       "0           2          0   新加坡环球影城   0.834080        2         0.000000   \n",
       "1           2          0     沙名胜世界   0.733386        1         0.000000   \n",
       "2           2          0       个景点   0.653317        1         0.000000   \n",
       "3           2          0       古埃及   0.649083        1         0.824111   \n",
       "4           2          0  环球影城主题公园   0.568189        1         0.000000   \n",
       "5           2          0     东南亚首个   0.551388        1         0.000000   \n",
       "6           2          0    过山车的特效   0.513862        1         0.974776   \n",
       "7           2          0     世界主题区   0.489102        1         0.824111   \n",
       "8           2          0      的人来说   0.469503        1         0.974776   \n",
       "9           2          0      变形金刚   0.446610        1         0.974776   \n",
       "\n",
       "  SENTIMENT_LABEL  COUNT_y  SENTIMENT_KEYWORD_AGG_INDEX ASPECT_CATEGORY_NAME  \\\n",
       "0         neutral    249.0                        177.0           POI/Places   \n",
       "1         neutral    203.0                        231.0           POI/Places   \n",
       "2         neutral     41.0                       1204.0           POI/Places   \n",
       "3        positive     46.0                       1089.0           Activities   \n",
       "4         neutral     13.0                       3520.0           POI/Places   \n",
       "5         neutral     13.0                       3392.0                  NaN   \n",
       "6        positive      NaN                          NaN                  NaN   \n",
       "7        positive      NaN                          NaN                  NaN   \n",
       "8        positive     18.0                       2636.0           Experience   \n",
       "9        positive    526.0                         78.0           Activities   \n",
       "\n",
       "   ASPECT_CATEGORY  REQUIRE_CONTEXT  \n",
       "0              NaN              NaN  \n",
       "1              NaN              NaN  \n",
       "2              NaN              NaN  \n",
       "3              NaN              1.0  \n",
       "4              NaN              NaN  \n",
       "5              NaN              NaN  \n",
       "6              NaN              NaN  \n",
       "7              NaN              NaN  \n",
       "8              NaN              NaN  \n",
       "9              NaN              NaN  "
      ]
     },
     "execution_count": 37,
     "metadata": {},
     "output_type": "execute_result"
    }
   ],
   "source": [
    "merged.head(10)"
   ]
  },
  {
   "cell_type": "code",
   "execution_count": 38,
   "metadata": {},
   "outputs": [
    {
     "data": {
      "text/plain": [
       "141387"
      ]
     },
     "execution_count": 38,
     "metadata": {},
     "output_type": "execute_result"
    }
   ],
   "source": [
    "not_annotated=merged[pd.isnull(merged['SENTIMENT_KEYWORD_AGG_INDEX'])]  #those with count <5\n",
    "len(not_annotated)"
   ]
  },
  {
   "cell_type": "code",
   "execution_count": 39,
   "metadata": {},
   "outputs": [
    {
     "data": {
      "text/plain": [
       "110880"
      ]
     },
     "execution_count": 39,
     "metadata": {},
     "output_type": "execute_result"
    }
   ],
   "source": [
    "len(pd.unique(not_annotated['TEXT']))"
   ]
  },
  {
   "cell_type": "code",
   "execution_count": 41,
   "metadata": {},
   "outputs": [
    {
     "data": {
      "text/plain": [
       "120158"
      ]
     },
     "execution_count": 41,
     "metadata": {},
     "output_type": "execute_result"
    }
   ],
   "source": [
    "len(pd.unique(ibm['TEXT']))"
   ]
  },
  {
   "cell_type": "code",
   "execution_count": 42,
   "metadata": {},
   "outputs": [
    {
     "data": {
      "text/plain": [
       "9364"
      ]
     },
     "execution_count": 42,
     "metadata": {},
     "output_type": "execute_result"
    }
   ],
   "source": [
    "len(pd.unique(annotation['TEXT']))"
   ]
  },
  {
   "cell_type": "code",
   "execution_count": null,
   "metadata": {},
   "outputs": [],
   "source": []
  }
 ],
 "metadata": {
  "kernelspec": {
   "display_name": "Python 3",
   "language": "python",
   "name": "python3"
  },
  "language_info": {
   "codemirror_mode": {
    "name": "ipython",
    "version": 3
   },
   "file_extension": ".py",
   "mimetype": "text/x-python",
   "name": "python",
   "nbconvert_exporter": "python",
   "pygments_lexer": "ipython3",
   "version": "3.7.4"
  }
 },
 "nbformat": 4,
 "nbformat_minor": 2
}
