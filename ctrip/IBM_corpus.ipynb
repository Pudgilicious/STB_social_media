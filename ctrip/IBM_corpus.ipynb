{
 "cells": [
  {
   "cell_type": "code",
   "execution_count": 49,
   "metadata": {},
   "outputs": [],
   "source": [
    "import pandas as pd\n",
    "import numpy as np"
   ]
  },
  {
   "cell_type": "code",
   "execution_count": 41,
   "metadata": {},
   "outputs": [],
   "source": [
    "data=pd.read_csv('./finalised_output/sentiment/sentiments_200303_085230/1_keywords_200303_085230.csv')"
   ]
  },
  {
   "cell_type": "code",
   "execution_count": 42,
   "metadata": {},
   "outputs": [
    {
     "data": {
      "text/html": [
       "<div>\n",
       "<style scoped>\n",
       "    .dataframe tbody tr th:only-of-type {\n",
       "        vertical-align: middle;\n",
       "    }\n",
       "\n",
       "    .dataframe tbody tr th {\n",
       "        vertical-align: top;\n",
       "    }\n",
       "\n",
       "    .dataframe thead th {\n",
       "        text-align: right;\n",
       "    }\n",
       "</style>\n",
       "<table border=\"1\" class=\"dataframe\">\n",
       "  <thead>\n",
       "    <tr style=\"text-align: right;\">\n",
       "      <th></th>\n",
       "      <th>WEBSITE_ID</th>\n",
       "      <th>REVIEW_ID</th>\n",
       "      <th>TEXT</th>\n",
       "      <th>RELEVANCE</th>\n",
       "      <th>COUNT</th>\n",
       "      <th>SENTIMENT_SCORE</th>\n",
       "      <th>SENTIMENT_LABEL</th>\n",
       "      <th>SADNESS</th>\n",
       "      <th>JOY</th>\n",
       "      <th>FEAR</th>\n",
       "      <th>DISGUST</th>\n",
       "      <th>ANGER</th>\n",
       "      <th>MIXED_SENTIMENT</th>\n",
       "    </tr>\n",
       "  </thead>\n",
       "  <tbody>\n",
       "    <tr>\n",
       "      <td>0</td>\n",
       "      <td>2</td>\n",
       "      <td>0</td>\n",
       "      <td>新加坡环球影城</td>\n",
       "      <td>0.834080</td>\n",
       "      <td>2</td>\n",
       "      <td>0.000000</td>\n",
       "      <td>neutral</td>\n",
       "      <td>NaN</td>\n",
       "      <td>NaN</td>\n",
       "      <td>NaN</td>\n",
       "      <td>NaN</td>\n",
       "      <td>NaN</td>\n",
       "      <td>NaN</td>\n",
       "    </tr>\n",
       "    <tr>\n",
       "      <td>1</td>\n",
       "      <td>2</td>\n",
       "      <td>0</td>\n",
       "      <td>沙名胜世界</td>\n",
       "      <td>0.733386</td>\n",
       "      <td>1</td>\n",
       "      <td>0.000000</td>\n",
       "      <td>neutral</td>\n",
       "      <td>NaN</td>\n",
       "      <td>NaN</td>\n",
       "      <td>NaN</td>\n",
       "      <td>NaN</td>\n",
       "      <td>NaN</td>\n",
       "      <td>NaN</td>\n",
       "    </tr>\n",
       "    <tr>\n",
       "      <td>2</td>\n",
       "      <td>2</td>\n",
       "      <td>0</td>\n",
       "      <td>个景点</td>\n",
       "      <td>0.653317</td>\n",
       "      <td>1</td>\n",
       "      <td>0.000000</td>\n",
       "      <td>neutral</td>\n",
       "      <td>NaN</td>\n",
       "      <td>NaN</td>\n",
       "      <td>NaN</td>\n",
       "      <td>NaN</td>\n",
       "      <td>NaN</td>\n",
       "      <td>NaN</td>\n",
       "    </tr>\n",
       "    <tr>\n",
       "      <td>3</td>\n",
       "      <td>2</td>\n",
       "      <td>0</td>\n",
       "      <td>古埃及</td>\n",
       "      <td>0.649083</td>\n",
       "      <td>1</td>\n",
       "      <td>0.824111</td>\n",
       "      <td>positive</td>\n",
       "      <td>NaN</td>\n",
       "      <td>NaN</td>\n",
       "      <td>NaN</td>\n",
       "      <td>NaN</td>\n",
       "      <td>NaN</td>\n",
       "      <td>NaN</td>\n",
       "    </tr>\n",
       "    <tr>\n",
       "      <td>4</td>\n",
       "      <td>2</td>\n",
       "      <td>0</td>\n",
       "      <td>环球影城主题公园</td>\n",
       "      <td>0.568189</td>\n",
       "      <td>1</td>\n",
       "      <td>0.000000</td>\n",
       "      <td>neutral</td>\n",
       "      <td>NaN</td>\n",
       "      <td>NaN</td>\n",
       "      <td>NaN</td>\n",
       "      <td>NaN</td>\n",
       "      <td>NaN</td>\n",
       "      <td>NaN</td>\n",
       "    </tr>\n",
       "  </tbody>\n",
       "</table>\n",
       "</div>"
      ],
      "text/plain": [
       "   WEBSITE_ID  REVIEW_ID      TEXT  RELEVANCE  COUNT  SENTIMENT_SCORE  \\\n",
       "0           2          0   新加坡环球影城   0.834080      2         0.000000   \n",
       "1           2          0     沙名胜世界   0.733386      1         0.000000   \n",
       "2           2          0       个景点   0.653317      1         0.000000   \n",
       "3           2          0       古埃及   0.649083      1         0.824111   \n",
       "4           2          0  环球影城主题公园   0.568189      1         0.000000   \n",
       "\n",
       "  SENTIMENT_LABEL  SADNESS  JOY  FEAR  DISGUST  ANGER  MIXED_SENTIMENT  \n",
       "0         neutral      NaN  NaN   NaN      NaN    NaN              NaN  \n",
       "1         neutral      NaN  NaN   NaN      NaN    NaN              NaN  \n",
       "2         neutral      NaN  NaN   NaN      NaN    NaN              NaN  \n",
       "3        positive      NaN  NaN   NaN      NaN    NaN              NaN  \n",
       "4         neutral      NaN  NaN   NaN      NaN    NaN              NaN  "
      ]
     },
     "execution_count": 42,
     "metadata": {},
     "output_type": "execute_result"
    }
   ],
   "source": [
    "data.head()"
   ]
  },
  {
   "cell_type": "code",
   "execution_count": 43,
   "metadata": {},
   "outputs": [],
   "source": [
    "data['idx'] = data.groupby('REVIEW_ID').cumcount()"
   ]
  },
  {
   "cell_type": "code",
   "execution_count": 45,
   "metadata": {},
   "outputs": [],
   "source": [
    "df=data.pivot(index='REVIEW_ID',columns='idx')[['TEXT']]"
   ]
  },
  {
   "cell_type": "code",
   "execution_count": 47,
   "metadata": {},
   "outputs": [],
   "source": [
    "df['combined']= df.values.tolist()"
   ]
  },
  {
   "cell_type": "code",
   "execution_count": 48,
   "metadata": {},
   "outputs": [],
   "source": [
    "corpus=pd.DataFrame({'KEYWORDS':df['combined']})"
   ]
  },
  {
   "cell_type": "code",
   "execution_count": 66,
   "metadata": {},
   "outputs": [],
   "source": [
    "corpus['KEYWORDS']=list(map(lambda x: list(item for item in x if str(item)!='nan'), corpus['KEYWORDS']))"
   ]
  },
  {
   "cell_type": "code",
   "execution_count": 71,
   "metadata": {},
   "outputs": [],
   "source": [
    "corpus['KEYWORDS']=list(map(lambda x: ' '.join(x),corpus['KEYWORDS']))"
   ]
  },
  {
   "cell_type": "code",
   "execution_count": 73,
   "metadata": {},
   "outputs": [],
   "source": [
    "f = open(\"IBM_corpus.txt\", \"a\")\n",
    "f.write(\"\\n\".join(map(lambda x: str(x), corpus['KEYWORDS'])))\n",
    "f.close()"
   ]
  },
  {
   "cell_type": "code",
   "execution_count": null,
   "metadata": {},
   "outputs": [],
   "source": []
  }
 ],
 "metadata": {
  "kernelspec": {
   "display_name": "Python 3",
   "language": "python",
   "name": "python3"
  },
  "language_info": {
   "codemirror_mode": {
    "name": "ipython",
    "version": 3
   },
   "file_extension": ".py",
   "mimetype": "text/x-python",
   "name": "python",
   "nbconvert_exporter": "python",
   "pygments_lexer": "ipython3",
   "version": "3.7.4"
  }
 },
 "nbformat": 4,
 "nbformat_minor": 2
}
