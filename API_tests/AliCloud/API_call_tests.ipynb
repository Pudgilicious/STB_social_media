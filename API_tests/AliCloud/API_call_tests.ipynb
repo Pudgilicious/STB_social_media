{
 "cells": [
  {
   "cell_type": "code",
   "execution_count": 1,
   "metadata": {},
   "outputs": [],
   "source": [
    "import json\n",
    "import pandas as pd\n",
    "import requests\n",
    "from pandas import json_normalize\n",
    "from urllib.parse import unquote"
   ]
  },
  {
   "cell_type": "code",
   "execution_count": 2,
   "metadata": {},
   "outputs": [
    {
     "data": {
      "text/plain": [
       "'%7B%22category_polarity_dist%22%3A%7B%22consumption%22%3A%5B0%2C0%2C0%5D%2C%22environment%22%3A%5B0%2C0%2C0%5D%2C%22fB%22%3A%5B0%2C0%2C0%5D%2C%22hygiene%22%3A%5B0%2C0%2C0%5D%2C%22safty%22%3A%5B0%2C0%2C0%5D%2C%22service%22%3A%5B0%2C0%2C0%5D%2C%22shopping%22%3A%5B0%2C0%2C0%5D%2C%22sigtseeing%22%3A%5B0%2C0%2C2%5D%2C%22transportation%22%3A%5B0%2C0%2C0%5D%7D%2C%22detail%22%3A%5B%7B%22aspects%22%3A%5B%22%3C%E6%99%AF%E7%82%B9%22%2C%22%E6%99%AF%E7%82%B9%22%5D%2C%22overall%22%3A%5B%22POS%22%5D%2C%22polarities%22%3A%5B%22POS%22%2C%22POS%22%5D%2C%22sentence%22%3A%5B%22%3C%E6%99%AF%E7%82%B9%E5%BE%88%E7%89%B9%E5%88%AB%3E%22%5D%7D%5D%2C%22meta%22%3A%7B%22asp_neg_rio%22%3A%220.0%22%2C%22asp_neu_rio%22%3A%220.0%22%2C%22asp_pos_rio%22%3A%220.9999500024998749%22%2C%22rev_neg_rio%22%3A%220.0%22%2C%22rev_neu_rio%22%3A%220.0%22%2C%22rev_pos_rio%22%3A%220.9999000099990001%22%2C%22total_asp%22%3A%222%22%2C%22total_rev%22%3A%221%22%7D%7D'"
      ]
     },
     "execution_count": 2,
     "metadata": {},
     "output_type": "execute_result"
    }
   ],
   "source": [
    "text = \"景点很特别\"\n",
    "\n",
    "url = 'http://161.117.205.162:8082/social/text?text=<{}>'.format(text)\n",
    "response = requests.get(url)\n",
    "response.text"
   ]
  },
  {
   "cell_type": "code",
   "execution_count": 3,
   "metadata": {},
   "outputs": [
    {
     "data": {
      "text/plain": [
       "'{\"category_polarity_dist\":{\"consumption\":[0,0,0],\"environment\":[0,0,0],\"fB\":[0,0,0],\"hygiene\":[0,0,0],\"safty\":[0,0,0],\"service\":[0,0,0],\"shopping\":[0,0,0],\"sigtseeing\":[0,0,2],\"transportation\":[0,0,0]},\"detail\":[{\"aspects\":[\"<景点\",\"景点\"],\"overall\":[\"POS\"],\"polarities\":[\"POS\",\"POS\"],\"sentence\":[\"<景点很特别>\"]}],\"meta\":{\"asp_neg_rio\":\"0.0\",\"asp_neu_rio\":\"0.0\",\"asp_pos_rio\":\"0.9999500024998749\",\"rev_neg_rio\":\"0.0\",\"rev_neu_rio\":\"0.0\",\"rev_pos_rio\":\"0.9999000099990001\",\"total_asp\":\"2\",\"total_rev\":\"1\"}}'"
      ]
     },
     "execution_count": 3,
     "metadata": {},
     "output_type": "execute_result"
    }
   ],
   "source": [
    "decode = unquote(response.text)\n",
    "decode"
   ]
  },
  {
   "cell_type": "code",
   "execution_count": 4,
   "metadata": {},
   "outputs": [
    {
     "data": {
      "text/plain": [
       "{'category_polarity_dist': {'consumption': [0, 0, 0],\n",
       "  'environment': [0, 0, 0],\n",
       "  'fB': [0, 0, 0],\n",
       "  'hygiene': [0, 0, 0],\n",
       "  'safty': [0, 0, 0],\n",
       "  'service': [0, 0, 0],\n",
       "  'shopping': [0, 0, 0],\n",
       "  'sigtseeing': [0, 0, 2],\n",
       "  'transportation': [0, 0, 0]},\n",
       " 'detail': [{'aspects': ['<景点', '景点'],\n",
       "   'overall': ['POS'],\n",
       "   'polarities': ['POS', 'POS'],\n",
       "   'sentence': ['<景点很特别>']}],\n",
       " 'meta': {'asp_neg_rio': '0.0',\n",
       "  'asp_neu_rio': '0.0',\n",
       "  'asp_pos_rio': '0.9999500024998749',\n",
       "  'rev_neg_rio': '0.0',\n",
       "  'rev_neu_rio': '0.0',\n",
       "  'rev_pos_rio': '0.9999000099990001',\n",
       "  'total_asp': '2',\n",
       "  'total_rev': '1'}}"
      ]
     },
     "execution_count": 4,
     "metadata": {},
     "output_type": "execute_result"
    }
   ],
   "source": [
    "data = json.loads(decode)\n",
    "data"
   ]
  },
  {
   "cell_type": "code",
   "execution_count": 5,
   "metadata": {},
   "outputs": [
    {
     "data": {
      "text/html": [
       "<div>\n",
       "<style scoped>\n",
       "    .dataframe tbody tr th:only-of-type {\n",
       "        vertical-align: middle;\n",
       "    }\n",
       "\n",
       "    .dataframe tbody tr th {\n",
       "        vertical-align: top;\n",
       "    }\n",
       "\n",
       "    .dataframe thead th {\n",
       "        text-align: right;\n",
       "    }\n",
       "</style>\n",
       "<table border=\"1\" class=\"dataframe\">\n",
       "  <thead>\n",
       "    <tr style=\"text-align: right;\">\n",
       "      <th></th>\n",
       "      <th>detail</th>\n",
       "      <th>category_polarity_dist.consumption</th>\n",
       "      <th>category_polarity_dist.environment</th>\n",
       "      <th>category_polarity_dist.fB</th>\n",
       "      <th>category_polarity_dist.hygiene</th>\n",
       "      <th>category_polarity_dist.safty</th>\n",
       "      <th>category_polarity_dist.service</th>\n",
       "      <th>category_polarity_dist.shopping</th>\n",
       "      <th>category_polarity_dist.sigtseeing</th>\n",
       "      <th>category_polarity_dist.transportation</th>\n",
       "      <th>meta.asp_neg_rio</th>\n",
       "      <th>meta.asp_neu_rio</th>\n",
       "      <th>meta.asp_pos_rio</th>\n",
       "      <th>meta.rev_neg_rio</th>\n",
       "      <th>meta.rev_neu_rio</th>\n",
       "      <th>meta.rev_pos_rio</th>\n",
       "      <th>meta.total_asp</th>\n",
       "      <th>meta.total_rev</th>\n",
       "    </tr>\n",
       "  </thead>\n",
       "  <tbody>\n",
       "    <tr>\n",
       "      <th>0</th>\n",
       "      <td>[{'aspects': ['&lt;景点', '景点'], 'overall': ['POS']...</td>\n",
       "      <td>[0, 0, 0]</td>\n",
       "      <td>[0, 0, 0]</td>\n",
       "      <td>[0, 0, 0]</td>\n",
       "      <td>[0, 0, 0]</td>\n",
       "      <td>[0, 0, 0]</td>\n",
       "      <td>[0, 0, 0]</td>\n",
       "      <td>[0, 0, 0]</td>\n",
       "      <td>[0, 0, 2]</td>\n",
       "      <td>[0, 0, 0]</td>\n",
       "      <td>0.0</td>\n",
       "      <td>0.0</td>\n",
       "      <td>0.9999500024998749</td>\n",
       "      <td>0.0</td>\n",
       "      <td>0.0</td>\n",
       "      <td>0.9999000099990001</td>\n",
       "      <td>2</td>\n",
       "      <td>1</td>\n",
       "    </tr>\n",
       "  </tbody>\n",
       "</table>\n",
       "</div>"
      ],
      "text/plain": [
       "                                              detail  \\\n",
       "0  [{'aspects': ['<景点', '景点'], 'overall': ['POS']...   \n",
       "\n",
       "  category_polarity_dist.consumption category_polarity_dist.environment  \\\n",
       "0                          [0, 0, 0]                          [0, 0, 0]   \n",
       "\n",
       "  category_polarity_dist.fB category_polarity_dist.hygiene  \\\n",
       "0                 [0, 0, 0]                      [0, 0, 0]   \n",
       "\n",
       "  category_polarity_dist.safty category_polarity_dist.service  \\\n",
       "0                    [0, 0, 0]                      [0, 0, 0]   \n",
       "\n",
       "  category_polarity_dist.shopping category_polarity_dist.sigtseeing  \\\n",
       "0                       [0, 0, 0]                         [0, 0, 2]   \n",
       "\n",
       "  category_polarity_dist.transportation meta.asp_neg_rio meta.asp_neu_rio  \\\n",
       "0                             [0, 0, 0]              0.0              0.0   \n",
       "\n",
       "     meta.asp_pos_rio meta.rev_neg_rio meta.rev_neu_rio    meta.rev_pos_rio  \\\n",
       "0  0.9999500024998749              0.0              0.0  0.9999000099990001   \n",
       "\n",
       "  meta.total_asp meta.total_rev  \n",
       "0              2              1  "
      ]
     },
     "execution_count": 5,
     "metadata": {},
     "output_type": "execute_result"
    }
   ],
   "source": [
    "sentiments = json_normalize(data)\n",
    "sentiments"
   ]
  },
  {
   "cell_type": "code",
   "execution_count": 9,
   "metadata": {},
   "outputs": [
    {
     "data": {
      "text/html": [
       "<div>\n",
       "<style scoped>\n",
       "    .dataframe tbody tr th:only-of-type {\n",
       "        vertical-align: middle;\n",
       "    }\n",
       "\n",
       "    .dataframe tbody tr th {\n",
       "        vertical-align: top;\n",
       "    }\n",
       "\n",
       "    .dataframe thead th {\n",
       "        text-align: right;\n",
       "    }\n",
       "</style>\n",
       "<table border=\"1\" class=\"dataframe\">\n",
       "  <thead>\n",
       "    <tr style=\"text-align: right;\">\n",
       "      <th></th>\n",
       "      <th>aspects</th>\n",
       "      <th>overall</th>\n",
       "      <th>polarities</th>\n",
       "      <th>sentence</th>\n",
       "    </tr>\n",
       "  </thead>\n",
       "  <tbody>\n",
       "    <tr>\n",
       "      <th>0</th>\n",
       "      <td>[&lt;景点, 景点]</td>\n",
       "      <td>[POS]</td>\n",
       "      <td>[POS, POS]</td>\n",
       "      <td>[&lt;景点很特别&gt;]</td>\n",
       "    </tr>\n",
       "  </tbody>\n",
       "</table>\n",
       "</div>"
      ],
      "text/plain": [
       "     aspects overall  polarities   sentence\n",
       "0  [<景点, 景点]   [POS]  [POS, POS]  [<景点很特别>]"
      ]
     },
     "execution_count": 9,
     "metadata": {},
     "output_type": "execute_result"
    }
   ],
   "source": [
    "detail = json_normalize(data['detail'][0])\n",
    "detail"
   ]
  }
 ],
 "metadata": {
  "kernelspec": {
   "display_name": "Python 3",
   "language": "python",
   "name": "python3"
  },
  "language_info": {
   "codemirror_mode": {
    "name": "ipython",
    "version": 3
   },
   "file_extension": ".py",
   "mimetype": "text/x-python",
   "name": "python",
   "nbconvert_exporter": "python",
   "pygments_lexer": "ipython3",
   "version": "3.7.6"
  }
 },
 "nbformat": 4,
 "nbformat_minor": 4
}
