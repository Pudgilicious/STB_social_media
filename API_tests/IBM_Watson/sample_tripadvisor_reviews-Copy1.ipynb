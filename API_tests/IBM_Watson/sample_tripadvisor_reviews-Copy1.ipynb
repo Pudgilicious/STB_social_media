{
 "cells": [
  {
   "cell_type": "code",
   "execution_count": 1,
   "metadata": {},
   "outputs": [],
   "source": [
    "import json\n",
    "from ibm_watson import NaturalLanguageUnderstandingV1\n",
    "from ibm_cloud_sdk_core.authenticators import IAMAuthenticator\n",
    "from ibm_watson.natural_language_understanding_v1 import Features, EntitiesOptions, KeywordsOptions\n",
    "\n",
    "import pandas as pd\n",
    "from pandas.io.json import json_normalize"
   ]
  },
  {
   "cell_type": "code",
   "execution_count": 2,
   "metadata": {
    "scrolled": true
   },
   "outputs": [
    {
     "name": "stderr",
     "output_type": "stream",
     "text": [
      "ERROR:root:Forbidden\n",
      "Traceback (most recent call last):\n",
      "  File \"/home/zyf0717/anaconda3/lib/python3.7/site-packages/ibm_cloud_sdk_core/base_service.py\", line 157, in send\n",
      "    response.status_code, error_message, http_response=response)\n",
      "ibm_cloud_sdk_core.api_exception.ApiException: Error: Forbidden, Code: 403\n"
     ]
    },
    {
     "ename": "ApiException",
     "evalue": "Error: Forbidden, Code: 403",
     "output_type": "error",
     "traceback": [
      "\u001b[0;31m---------------------------------------------------------------------------\u001b[0m",
      "\u001b[0;31mApiException\u001b[0m                              Traceback (most recent call last)",
      "\u001b[0;32m<ipython-input-2-cc8af8cff8bd>\u001b[0m in \u001b[0;36m<module>\u001b[0;34m\u001b[0m\n\u001b[1;32m     14\u001b[0m response = natural_language_understanding.analyze(\n\u001b[1;32m     15\u001b[0m     \u001b[0mtext\u001b[0m\u001b[0;34m=\u001b[0m\u001b[0mtext\u001b[0m\u001b[0;34m,\u001b[0m\u001b[0;34m\u001b[0m\u001b[0;34m\u001b[0m\u001b[0m\n\u001b[0;32m---> 16\u001b[0;31m     features=Features(entities=EntitiesOptions(emotion=True, sentiment=True, limit=100000), keywords=KeywordsOptions(emotion=True, sentiment=True, limit=100000))).get_result()\n\u001b[0m\u001b[1;32m     17\u001b[0m \u001b[0;34m\u001b[0m\u001b[0m\n\u001b[1;32m     18\u001b[0m \u001b[0mprint\u001b[0m\u001b[0;34m(\u001b[0m\u001b[0mjson\u001b[0m\u001b[0;34m.\u001b[0m\u001b[0mdumps\u001b[0m\u001b[0;34m(\u001b[0m\u001b[0mresponse\u001b[0m\u001b[0;34m,\u001b[0m \u001b[0mindent\u001b[0m\u001b[0;34m=\u001b[0m\u001b[0;36m2\u001b[0m\u001b[0;34m)\u001b[0m\u001b[0;34m)\u001b[0m\u001b[0;34m\u001b[0m\u001b[0;34m\u001b[0m\u001b[0m\n",
      "\u001b[0;32m~/anaconda3/lib/python3.7/site-packages/ibm_watson/natural_language_understanding_v1.py\u001b[0m in \u001b[0;36manalyze\u001b[0;34m(self, features, text, html, url, clean, xpath, fallback_to_raw, return_analyzed_text, language, limit_text_characters, **kwargs)\u001b[0m\n\u001b[1;32m    184\u001b[0m                                        \u001b[0mdata\u001b[0m\u001b[0;34m=\u001b[0m\u001b[0mdata\u001b[0m\u001b[0;34m,\u001b[0m\u001b[0;34m\u001b[0m\u001b[0;34m\u001b[0m\u001b[0m\n\u001b[1;32m    185\u001b[0m                                        accept_json=True)\n\u001b[0;32m--> 186\u001b[0;31m         \u001b[0mresponse\u001b[0m \u001b[0;34m=\u001b[0m \u001b[0mself\u001b[0m\u001b[0;34m.\u001b[0m\u001b[0msend\u001b[0m\u001b[0;34m(\u001b[0m\u001b[0mrequest\u001b[0m\u001b[0;34m)\u001b[0m\u001b[0;34m\u001b[0m\u001b[0;34m\u001b[0m\u001b[0m\n\u001b[0m\u001b[1;32m    187\u001b[0m         \u001b[0;32mreturn\u001b[0m \u001b[0mresponse\u001b[0m\u001b[0;34m\u001b[0m\u001b[0;34m\u001b[0m\u001b[0m\n\u001b[1;32m    188\u001b[0m \u001b[0;34m\u001b[0m\u001b[0m\n",
      "\u001b[0;32m~/anaconda3/lib/python3.7/site-packages/ibm_cloud_sdk_core/base_service.py\u001b[0m in \u001b[0;36msend\u001b[0;34m(self, request, **kwargs)\u001b[0m\n\u001b[1;32m    155\u001b[0m                                     \u001b[0;34m'invalid credentials'\u001b[0m\u001b[0;34m\u001b[0m\u001b[0;34m\u001b[0m\u001b[0m\n\u001b[1;32m    156\u001b[0m                 raise ApiException(\n\u001b[0;32m--> 157\u001b[0;31m                     response.status_code, error_message, http_response=response)\n\u001b[0m\u001b[1;32m    158\u001b[0m         \u001b[0;32mexcept\u001b[0m \u001b[0mrequests\u001b[0m\u001b[0;34m.\u001b[0m\u001b[0mexceptions\u001b[0m\u001b[0;34m.\u001b[0m\u001b[0mSSLError\u001b[0m\u001b[0;34m:\u001b[0m\u001b[0;34m\u001b[0m\u001b[0;34m\u001b[0m\u001b[0m\n\u001b[1;32m    159\u001b[0m             \u001b[0mlogging\u001b[0m\u001b[0;34m.\u001b[0m\u001b[0mexception\u001b[0m\u001b[0;34m(\u001b[0m\u001b[0mself\u001b[0m\u001b[0;34m.\u001b[0m\u001b[0mERROR_MSG_DISABLE_SSL\u001b[0m\u001b[0;34m)\u001b[0m\u001b[0;34m\u001b[0m\u001b[0;34m\u001b[0m\u001b[0m\n",
      "\u001b[0;31mApiException\u001b[0m: Error: Forbidden, Code: 403"
     ]
    }
   ],
   "source": [
    "authenticator = IAMAuthenticator('bkC6hyTVS4qonY34vS0d8Q5F2YY4Kz9m0fyj1cN-5VFw')\n",
    "\n",
    "natural_language_understanding = NaturalLanguageUnderstandingV1(\n",
    "    version='2019-07-12',\n",
    "    authenticator=authenticator\n",
    ")\n",
    "\n",
    "natural_language_understanding.set_service_url('https://gateway.watsonplatform.net/natural-language-understanding/api/v1/analyze?version=2019-07-12')\n",
    "\n",
    "text = \"\"\"\n",
    "What a sight! Anyone who visits Singspore should take some time to visit this breathtaking place. It will be a unique experience. Pls don't miss it.\n",
    "\"\"\"\n",
    "\n",
    "response = natural_language_understanding.analyze(\n",
    "    text=text,\n",
    "    features=Features(entities=EntitiesOptions(emotion=True, sentiment=True, limit=100000), keywords=KeywordsOptions(emotion=True, sentiment=True, limit=100000))).get_result()\n",
    "\n",
    "print(json.dumps(response, indent=2))"
   ]
  },
  {
   "cell_type": "code",
   "execution_count": 5,
   "metadata": {},
   "outputs": [
    {
     "data": {
      "text/plain": [
       "[{'text': 'unique experience',\n",
       "  'sentiment': {'score': 0.397967, 'mixed': '1', 'label': 'positive'},\n",
       "  'relevance': 0.794288,\n",
       "  'emotion': {'sadness': 0.113328,\n",
       "   'joy': 0.184752,\n",
       "   'fear': 0.205239,\n",
       "   'disgust': 0.028168,\n",
       "   'anger': 0.162816},\n",
       "  'count': 1},\n",
       " {'text': 'Singspore',\n",
       "  'sentiment': {'score': 0.979668, 'label': 'positive'},\n",
       "  'relevance': 0.601348,\n",
       "  'emotion': {'sadness': 0.085382,\n",
       "   'joy': 0.388905,\n",
       "   'fear': 0.103358,\n",
       "   'disgust': 0.14472,\n",
       "   'anger': 0.070715},\n",
       "  'count': 1},\n",
       " {'text': 'breathtaking place',\n",
       "  'sentiment': {'score': 0.900992, 'label': 'positive'},\n",
       "  'relevance': 0.562468,\n",
       "  'emotion': {'sadness': 0.085382,\n",
       "   'joy': 0.388905,\n",
       "   'fear': 0.103358,\n",
       "   'disgust': 0.14472,\n",
       "   'anger': 0.070715},\n",
       "  'count': 1},\n",
       " {'text': 'Pls',\n",
       "  'sentiment': {'score': -0.637495, 'label': 'negative'},\n",
       "  'relevance': 0.559145,\n",
       "  'emotion': {'sadness': 0.148831,\n",
       "   'joy': 0.179551,\n",
       "   'fear': 0.091248,\n",
       "   'disgust': 0.074744,\n",
       "   'anger': 0.088473},\n",
       "  'count': 1},\n",
       " {'text': 'sight',\n",
       "  'sentiment': {'score': 0, 'label': 'neutral'},\n",
       "  'relevance': 0.532076,\n",
       "  'emotion': {'sadness': 0, 'joy': 0, 'fear': 0, 'disgust': 0, 'anger': 0},\n",
       "  'count': 1},\n",
       " {'text': 'time',\n",
       "  'sentiment': {'score': 0.979668, 'label': 'positive'},\n",
       "  'relevance': 0.474023,\n",
       "  'emotion': {'sadness': 0.085382,\n",
       "   'joy': 0.388905,\n",
       "   'fear': 0.103358,\n",
       "   'disgust': 0.14472,\n",
       "   'anger': 0.070715},\n",
       "  'count': 1}]"
      ]
     },
     "execution_count": 5,
     "metadata": {},
     "output_type": "execute_result"
    }
   ],
   "source": [
    "keywords_col_names = ['WEBSITE_ID', 'REVIEW_ID', 'TEXT', 'RELEVANCE', 'COUNT',\n",
    "                     'SENTIMENT_SCORE', 'SENTIMENT_LABEL', 'SADNESS', 'JOY',\n",
    "                     'FEAR', 'DISGUST', 'ANGER', 'MIXED_SENTIMENT']\n",
    "\n",
    "keywords_col_names_map = {\n",
    "    'text': 'TEXT', \n",
    "    'relevance': 'RELEVANCE', \n",
    "    'count': 'COUNT', \n",
    "    'sentiment.score': 'SENTIMENT_SCORE',\n",
    "    'sentiment.label': 'SENTIMENT_LABEL',\n",
    "    'emotion.sadness': 'SADNESS',\n",
    "    'emotion.joy': 'JOY',\n",
    "    'emotion.fear': 'FEAR',\n",
    "    'emotion.disgust': 'DISGUST',\n",
    "    'emotion.anger': 'ANGER',\n",
    "    'sentiment.mixed': 'MIXED_SENTIMENT'\n",
    "}\n",
    "\n",
    "keywords_df = json_normalize(response['keywords']).rename(columns=keywords_col_names_map)\n",
    "keywords_df = keywords_df[keywords_col_names[2:]]\n",
    "keywords_df.insert(0, 'REVIEW_INDEX', 1234567890)\n",
    "keywords_df.insert(0, 'WEBSITE_ID', 1)\n",
    "keywords_df\n",
    "response['keywords']"
   ]
  },
  {
   "cell_type": "code",
   "execution_count": 11,
   "metadata": {},
   "outputs": [
    {
     "data": {
      "text/plain": [
       "True"
      ]
     },
     "execution_count": 11,
     "metadata": {},
     "output_type": "execute_result"
    }
   ],
   "source": [
    "entities_col_names = {\n",
    "    'type': 'TYPE',\n",
    "    'text': 'TEXT', \n",
    "    'relevance': 'RELEVANCE', \n",
    "    'count': 'COUNT',\n",
    "    'confidence': 'CONFIDENCE',\n",
    "    'sentiment.score': 'SENTIMENT_SCORE',\n",
    "    'sentiment.label': 'SENTIMENT_LABEL',\n",
    "    'emotion.sadness': 'SADNESS',\n",
    "    'emotion.joy': 'JOY',\n",
    "    'emotion.fear': 'FEAR',\n",
    "    'emotion.disgust': 'DISGUST',\n",
    "    'emotion.anger': 'ANGER',\n",
    "    'sentiment.mixed': 'MIXED_SENTIMENT',\n",
    "    'disambiguation.name': 'DISAMBIGUATION_NAME',\n",
    "    'disambiguation.dbpedia_resource': 'DISAMBIGUATION_RESOURCE'\n",
    "}\n",
    "\n",
    "entities_df = json_normalize(response['entities']).rename(columns=entities_col_names)\n",
    "entities_df.insert(0, 'REVIEW_INDEX', 1234567890)\n",
    "entities_df.insert(0, 'WEBSITE_ID', 1)\n",
    "entities_df\n",
    "'entities' in (response.keys())"
   ]
  },
  {
   "cell_type": "code",
   "execution_count": null,
   "metadata": {},
   "outputs": [],
   "source": []
  }
 ],
 "metadata": {
  "kernelspec": {
   "display_name": "Python 3",
   "language": "python",
   "name": "python3"
  },
  "language_info": {
   "codemirror_mode": {
    "name": "ipython",
    "version": 3
   },
   "file_extension": ".py",
   "mimetype": "text/x-python",
   "name": "python",
   "nbconvert_exporter": "python",
   "pygments_lexer": "ipython3",
   "version": "3.7.5"
  }
 },
 "nbformat": 4,
 "nbformat_minor": 4
}
