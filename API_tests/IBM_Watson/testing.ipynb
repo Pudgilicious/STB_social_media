{
 "cells": [
  {
   "cell_type": "code",
   "execution_count": 2,
   "metadata": {},
   "outputs": [
    {
     "name": "stdout",
     "output_type": "stream",
     "text": [
      "/home/zyf0717/git/STB_social_media_analytics\n"
     ]
    }
   ],
   "source": [
    "# Set wd to STB_social_media_analytics.\n",
    "%cd /home/zyf0717/git/STB_social_media_analytics/"
   ]
  },
  {
   "cell_type": "code",
   "execution_count": 3,
   "metadata": {},
   "outputs": [
    {
     "name": "stdout",
     "output_type": "stream",
     "text": [
      "01-2020\n"
     ]
    },
    {
     "name": "stderr",
     "output_type": "stream",
     "text": [
      "ERROR:root:not enough text for language id\n",
      "Traceback (most recent call last):\n",
      "  File \"/home/zyf0717/anaconda3/lib/python3.7/site-packages/ibm_cloud_sdk_core/base_service.py\", line 157, in send\n",
      "    response.status_code, error_message, http_response=response)\n",
      "ibm_cloud_sdk_core.api_exception.ApiException: Error: not enough text for language id, Code: 422 , X-global-transaction-id: c88d533399fbb1847966292a671ca7bf\n"
     ]
    },
    {
     "ename": "ApiException",
     "evalue": "Error: not enough text for language id, Code: 422 , X-global-transaction-id: c88d533399fbb1847966292a671ca7bf",
     "output_type": "error",
     "traceback": [
      "\u001b[0;31m---------------------------------------------------------------------------\u001b[0m",
      "\u001b[0;31mApiException\u001b[0m                              Traceback (most recent call last)",
      "\u001b[0;32m<ipython-input-3-c2fcb4ac0731>\u001b[0m in \u001b[0;36m<module>\u001b[0;34m\u001b[0m\n\u001b[1;32m     84\u001b[0m         features=Features(\n\u001b[1;32m     85\u001b[0m             \u001b[0mentities\u001b[0m\u001b[0;34m=\u001b[0m\u001b[0mEntitiesOptions\u001b[0m\u001b[0;34m(\u001b[0m\u001b[0memotion\u001b[0m\u001b[0;34m=\u001b[0m\u001b[0;32mTrue\u001b[0m\u001b[0;34m,\u001b[0m \u001b[0msentiment\u001b[0m\u001b[0;34m=\u001b[0m\u001b[0;32mTrue\u001b[0m\u001b[0;34m,\u001b[0m \u001b[0mlimit\u001b[0m\u001b[0;34m=\u001b[0m\u001b[0;36m1000\u001b[0m\u001b[0;34m)\u001b[0m\u001b[0;34m,\u001b[0m\u001b[0;34m\u001b[0m\u001b[0;34m\u001b[0m\u001b[0m\n\u001b[0;32m---> 86\u001b[0;31m             \u001b[0mkeywords\u001b[0m\u001b[0;34m=\u001b[0m\u001b[0mKeywordsOptions\u001b[0m\u001b[0;34m(\u001b[0m\u001b[0memotion\u001b[0m\u001b[0;34m=\u001b[0m\u001b[0;32mTrue\u001b[0m\u001b[0;34m,\u001b[0m \u001b[0msentiment\u001b[0m\u001b[0;34m=\u001b[0m\u001b[0;32mTrue\u001b[0m\u001b[0;34m,\u001b[0m \u001b[0mlimit\u001b[0m\u001b[0;34m=\u001b[0m\u001b[0;36m1000\u001b[0m\u001b[0;34m)\u001b[0m\u001b[0;34m\u001b[0m\u001b[0;34m\u001b[0m\u001b[0m\n\u001b[0m\u001b[1;32m     87\u001b[0m         )\n\u001b[1;32m     88\u001b[0m     ).get_result()\n",
      "\u001b[0;32m~/anaconda3/lib/python3.7/site-packages/ibm_watson/natural_language_understanding_v1.py\u001b[0m in \u001b[0;36manalyze\u001b[0;34m(self, features, text, html, url, clean, xpath, fallback_to_raw, return_analyzed_text, language, limit_text_characters, **kwargs)\u001b[0m\n\u001b[1;32m    184\u001b[0m                                        \u001b[0mdata\u001b[0m\u001b[0;34m=\u001b[0m\u001b[0mdata\u001b[0m\u001b[0;34m,\u001b[0m\u001b[0;34m\u001b[0m\u001b[0;34m\u001b[0m\u001b[0m\n\u001b[1;32m    185\u001b[0m                                        accept_json=True)\n\u001b[0;32m--> 186\u001b[0;31m         \u001b[0mresponse\u001b[0m \u001b[0;34m=\u001b[0m \u001b[0mself\u001b[0m\u001b[0;34m.\u001b[0m\u001b[0msend\u001b[0m\u001b[0;34m(\u001b[0m\u001b[0mrequest\u001b[0m\u001b[0;34m)\u001b[0m\u001b[0;34m\u001b[0m\u001b[0;34m\u001b[0m\u001b[0m\n\u001b[0m\u001b[1;32m    187\u001b[0m         \u001b[0;32mreturn\u001b[0m \u001b[0mresponse\u001b[0m\u001b[0;34m\u001b[0m\u001b[0;34m\u001b[0m\u001b[0m\n\u001b[1;32m    188\u001b[0m \u001b[0;34m\u001b[0m\u001b[0m\n",
      "\u001b[0;32m~/anaconda3/lib/python3.7/site-packages/ibm_cloud_sdk_core/base_service.py\u001b[0m in \u001b[0;36msend\u001b[0;34m(self, request, **kwargs)\u001b[0m\n\u001b[1;32m    155\u001b[0m                                     \u001b[0;34m'invalid credentials'\u001b[0m\u001b[0;34m\u001b[0m\u001b[0;34m\u001b[0m\u001b[0m\n\u001b[1;32m    156\u001b[0m                 raise ApiException(\n\u001b[0;32m--> 157\u001b[0;31m                     response.status_code, error_message, http_response=response)\n\u001b[0m\u001b[1;32m    158\u001b[0m         \u001b[0;32mexcept\u001b[0m \u001b[0mrequests\u001b[0m\u001b[0;34m.\u001b[0m\u001b[0mexceptions\u001b[0m\u001b[0;34m.\u001b[0m\u001b[0mSSLError\u001b[0m\u001b[0;34m:\u001b[0m\u001b[0;34m\u001b[0m\u001b[0;34m\u001b[0m\u001b[0m\n\u001b[1;32m    159\u001b[0m             \u001b[0mlogging\u001b[0m\u001b[0;34m.\u001b[0m\u001b[0mexception\u001b[0m\u001b[0;34m(\u001b[0m\u001b[0mself\u001b[0m\u001b[0;34m.\u001b[0m\u001b[0mERROR_MSG_DISABLE_SSL\u001b[0m\u001b[0;34m)\u001b[0m\u001b[0;34m\u001b[0m\u001b[0;34m\u001b[0m\u001b[0m\n",
      "\u001b[0;31mApiException\u001b[0m: Error: not enough text for language id, Code: 422 , X-global-transaction-id: c88d533399fbb1847966292a671ca7bf"
     ]
    }
   ],
   "source": [
    "import pandas as pd\n",
    "from pandas.io.json import json_normalize\n",
    "\n",
    "from ibm_watson import NaturalLanguageUnderstandingV1\n",
    "from ibm_cloud_sdk_core.authenticators import IAMAuthenticator\n",
    "from ibm_watson.natural_language_understanding_v1 import Features, EntitiesOptions, KeywordsOptions\n",
    "\n",
    "# Setup the API caller\n",
    "authenticator = IAMAuthenticator('bkC6hyTVS4qonY34vS0d8Q5F2YY4Kz9m0fyj1cN-5VFw')\n",
    "natural_language_understanding = NaturalLanguageUnderstandingV1(\n",
    "    version='2019-07-12',\n",
    "    authenticator=authenticator\n",
    ")\n",
    "natural_language_understanding.set_service_url(\n",
    "    'https://gateway.watsonplatform.net/natural-language-understanding/api/v1/analyze?version=2019-07-12')\n",
    "\n",
    "# Open CSV containing reviews to score\n",
    "folder_name = '200125_142611'\n",
    "poi_index = 1\n",
    "reviews_df = pd.read_csv('./tripadvisor/finalised_output/{}/reviews/{}.csv'.format(folder_name, poi_index))\n",
    "\n",
    "# Create CSVs\n",
    "keywords_col_names = ['WEBSITE_ID', 'REVIEW_INDEX', 'TEXT', 'RELEVANCE', 'COUNT',\n",
    "                     'SENTIMENT_SCORE', 'SENTIMENT_LABEL', 'SADNESS', 'JOY',\n",
    "                     'FEAR', 'DISGUST', 'ANGER']\n",
    "pd.DataFrame(columns=keywords_col_names).to_csv(\n",
    "    './tripadvisor/finalised_output/{}/reviews/{}_keywords.csv'.format(\n",
    "        folder_name,\n",
    "        poi_index),\n",
    "    mode='a',\n",
    "    header=False,\n",
    "    index=False\n",
    ")\n",
    "entities_col_names = ['WEBSITE_ID', 'REVIEW_INDEX', 'TYPE', 'TEXT', 'RELEVANCE',\n",
    "                      'COUNT', 'CONFIDENCE', 'SENTIMENT_SCORE',\n",
    "                      'SENTIMENT_LABEL', 'SADNESS', 'JOY', 'FEAR', 'DISGUST',\n",
    "                      'ANGER', 'DISAMBIGUATION_NAME', 'DISAMBIGUATION_RESOURCE']\n",
    "pd.DataFrame(columns=entities_col_names).to_csv(\n",
    "    './tripadvisor/finalised_output/{}/reviews/{}_entities.csv'.format(\n",
    "        folder_name,\n",
    "        poi_index),\n",
    "    mode='a',\n",
    "    header=False,\n",
    "    index=False\n",
    ")\n",
    "\n",
    "keywords_col_names_map = {\n",
    "    'text': 'TEXT',\n",
    "    'relevance': 'RELEVANCE',\n",
    "    'count': 'COUNT',\n",
    "    'sentiment.score': 'SENTIMENT_SCORE',\n",
    "    'sentiment.label': 'SENTIMENT_LABEL',\n",
    "    'emotion.sadness': 'SADNESS',\n",
    "    'emotion.joy': 'JOY',\n",
    "    'emotion.fear': 'FEAR',\n",
    "    'emotion.disgust': 'DISGUST',\n",
    "    'emotion.anger': 'ANGER'\n",
    "}\n",
    "\n",
    "entities_col_names_map = {\n",
    "    'type': 'TYPE',\n",
    "    'text': 'TEXT',\n",
    "    'relevance': 'RELEVANCE',\n",
    "    'count': 'COUNT',\n",
    "    'confidence': 'CONFIDENCE',\n",
    "    'sentiment.score': 'SENTIMENT_SCORE',\n",
    "    'sentiment.label': 'SENTIMENT_LABEL',\n",
    "    'emotion.sadness': 'SADNESS',\n",
    "    'emotion.joy': 'JOY',\n",
    "    'emotion.fear': 'FEAR',\n",
    "    'emotion.disgust': 'DISGUST',\n",
    "    'emotion.anger': 'ANGER',\n",
    "    'sentiment.mixed': 'MIXED_SENTIMENT',\n",
    "    'disambiguation.name': 'DISAMBIGUATION_NAME',\n",
    "    'disambiguation.dbpedia_resource': 'DISAMBIGUATION_RESOURCE'\n",
    "}\n",
    "\n",
    "# Making the API calls\n",
    "while len(reviews_df.index) > 0:\n",
    "    text = reviews_df.iloc[0][9]\n",
    "    print(text)\n",
    "    response = natural_language_understanding.analyze(\n",
    "        text=text,\n",
    "        features=Features(\n",
    "            entities=EntitiesOptions(emotion=True, sentiment=True, limit=1000),\n",
    "            keywords=KeywordsOptions(emotion=True, sentiment=True, limit=1000)\n",
    "        )\n",
    "    ).get_result()\n",
    "\n",
    "    keywords_df = json_normalize(response['keywords']).rename(columns=keywords_col_names_map)\n",
    "    keywords_df.insert(0, 'REVIEW_INDEX', reviews_df.iloc[0][4])\n",
    "    keywords_df.insert(0, 'WEBSITE_ID', 1)\n",
    "\n",
    "    keywords_df.to_csv(\n",
    "        './tripadvisor/finalised_output/{}/reviews/{}_keywords.csv'.format(\n",
    "            folder_name,\n",
    "            poi_index),\n",
    "        mode='a',\n",
    "        header=False,\n",
    "        index=False\n",
    "    )\n",
    "\n",
    "    entities_df = json_normalize(response['entities']).rename(columns=entities_col_names_map)\n",
    "    entities_df.insert(0, 'REVIEW_INDEX', reviews_df.iloc[0][4])\n",
    "    entities_df.insert(0, 'WEBSITE_ID', 1)\n",
    "\n",
    "    entities_df.to_csv(\n",
    "        './tripadvisor/finalised_output/{}/reviews/{}_keywords.csv'.format(\n",
    "            folder_name,\n",
    "            poi_index),\n",
    "        mode='a',\n",
    "        header=False,\n",
    "        index=False\n",
    "    )\n",
    "\n",
    "    reviews_df = reviews_df.iloc[1:]"
   ]
  },
  {
   "cell_type": "code",
   "execution_count": null,
   "metadata": {},
   "outputs": [],
   "source": []
  }
 ],
 "metadata": {
  "kernelspec": {
   "display_name": "Python 3",
   "language": "python",
   "name": "python3"
  },
  "language_info": {
   "codemirror_mode": {
    "name": "ipython",
    "version": 3
   },
   "file_extension": ".py",
   "mimetype": "text/x-python",
   "name": "python",
   "nbconvert_exporter": "python",
   "pygments_lexer": "ipython3",
   "version": "3.7.5"
  }
 },
 "nbformat": 4,
 "nbformat_minor": 4
}
