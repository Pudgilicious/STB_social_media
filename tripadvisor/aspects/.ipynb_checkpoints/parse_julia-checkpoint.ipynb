{
 "cells": [
  {
   "cell_type": "code",
   "execution_count": 1,
   "metadata": {},
   "outputs": [],
   "source": [
    "using DataFrames\n",
    "using CSV"
   ]
  },
  {
   "cell_type": "code",
   "execution_count": 2,
   "metadata": {},
   "outputs": [
    {
     "data": {
      "text/plain": [
       "12-element Array{String,1}:\n",
       " \"200125_142611\"\n",
       " \"200126_094431\"\n",
       " \"200128_111646\"\n",
       " \"200129_102527\"\n",
       " \"200129_172433\"\n",
       " \"200130_091345\"\n",
       " \"200130_102635\"\n",
       " \"200130_113340\"\n",
       " \"200130_135426\"\n",
       " \"200131_090828\"\n",
       " \"200131_102045\"\n",
       " \"200131_161919\""
      ]
     },
     "execution_count": 2,
     "metadata": {},
     "output_type": "execute_result"
    }
   ],
   "source": [
    "path = \"/home/zyf0717/git/STB_social_media_analytics/tripadvisor/finalised_output/\"\n",
    "folders = readdir(path)"
   ]
  },
  {
   "cell_type": "code",
   "execution_count": 3,
   "metadata": {},
   "outputs": [
    {
     "data": {
      "text/plain": [
       "12-element Array{String,1}:\n",
       " \"/home/zyf0717/git/STB_social_media_analytics/tripadvisor/finalised_output/200125_142611/sentiments_200131_203616/\"\n",
       " \"/home/zyf0717/git/STB_social_media_analytics/tripadvisor/finalised_output/200126_094431/sentiments_200207_093105/\"\n",
       " \"/home/zyf0717/git/STB_social_media_analytics/tripadvisor/finalised_output/200128_111646/sentiments_200208_115417/\"\n",
       " \"/home/zyf0717/git/STB_social_media_analytics/tripadvisor/finalised_output/200129_102527/sentiments_200208_140749/\"\n",
       " \"/home/zyf0717/git/STB_social_media_analytics/tripadvisor/finalised_output/200129_172433/sentiments_200208_233650/\"\n",
       " \"/home/zyf0717/git/STB_social_media_analytics/tripadvisor/finalised_output/200130_091345/sentiments_200210_115651/\"\n",
       " \"/home/zyf0717/git/STB_social_media_analytics/tripadvisor/finalised_output/200130_102635/sentiments_200210_112643/\"\n",
       " \"/home/zyf0717/git/STB_social_media_analytics/tripadvisor/finalised_output/200130_113340/sentiments_200209_135726/\"\n",
       " \"/home/zyf0717/git/STB_social_media_analytics/tripadvisor/finalised_output/200130_135426/sentiments_200210_132315/\"\n",
       " \"/home/zyf0717/git/STB_social_media_analytics/tripadvisor/finalised_output/200131_090828/sentiments_200211_103140/\"\n",
       " \"/home/zyf0717/git/STB_social_media_analytics/tripadvisor/finalised_output/200131_102045/sentiments_200211_111136/\"\n",
       " \"/home/zyf0717/git/STB_social_media_analytics/tripadvisor/finalised_output/200131_161919/sentiments_200211_112653/\""
      ]
     },
     "execution_count": 3,
     "metadata": {},
     "output_type": "execute_result"
    }
   ],
   "source": [
    "folder_paths = String[]\n",
    "for folder in folders\n",
    "    temp_folders = readdir(path * folder * \"/\")\n",
    "    for sub_folder in temp_folders\n",
    "        if findfirst(\"sentiments\", sub_folder) != nothing\n",
    "            p = path * folder * \"/\" * sub_folder * \"/\"\n",
    "            push!(folder_paths, p)\n",
    "        end\n",
    "    end\n",
    "end\n",
    "\n",
    "folder_paths"
   ]
  },
  {
   "cell_type": "code",
   "execution_count": 4,
   "metadata": {},
   "outputs": [
    {
     "data": {
      "text/plain": [
       "(1399709, 13)"
      ]
     },
     "execution_count": 4,
     "metadata": {},
     "output_type": "execute_result"
    }
   ],
   "source": [
    "df = nothing\n",
    "for folder_path in folder_paths\n",
    "    files = readdir(folder_path)\n",
    "    for file in files\n",
    "        if findfirst(\"keywords\", file) != nothing\n",
    "            if df == nothing\n",
    "                df = CSV.read(folder_path * file)\n",
    "            else          \n",
    "                df = vcat(df, CSV.read(folder_path * file))\n",
    "            end\n",
    "        end\n",
    "    end\n",
    "end\n",
    "\n",
    "size(df)"
   ]
  },
  {
   "cell_type": "code",
   "execution_count": 5,
   "metadata": {},
   "outputs": [
    {
     "data": {
      "text/plain": [
       "(1395772, 13)"
      ]
     },
     "execution_count": 5,
     "metadata": {},
     "output_type": "execute_result"
    }
   ],
   "source": [
    "deleterows!(df, nonunique(df))\n",
    "size(df)"
   ]
  },
  {
   "cell_type": "code",
   "execution_count": 6,
   "metadata": {
    "scrolled": true
   },
   "outputs": [
    {
     "data": {
      "text/html": [
       "<table class=\"data-frame\"><thead><tr><th></th><th>REVIEW_ID</th><th>TEXT</th></tr><tr><th></th><th>Int64</th><th>String</th></tr></thead><tbody><p>1,395,772 rows × 2 columns</p><tr><th>1</th><td>740945217</td><td>proper_guidance</td></tr><tr><th>2</th><td>740945217</td><td>good_view_of_skyline</td></tr><tr><th>3</th><td>740945217</td><td>place</td></tr><tr><th>4</th><td>740945217</td><td>lift</td></tr><tr><th>5</th><td>740945217</td><td>bit</td></tr><tr><th>6</th><td>740945217</td><td>cons</td></tr><tr><th>7</th><td>740945217</td><td>time</td></tr><tr><th>8</th><td>740945217</td><td>kidos.very</td></tr><tr><th>9</th><td>740889315</td><td>long_distances</td></tr><tr><th>10</th><td>740889315</td><td>flower_dome</td></tr><tr><th>11</th><td>740889315</td><td>free_children’s_water_park</td></tr><tr><th>12</th><td>740889315</td><td>personal_favourite</td></tr><tr><th>13</th><td>740889315</td><td>cloud_dome</td></tr><tr><th>14</th><td>740889315</td><td>park_pass</td></tr><tr><th>15</th><td>740889315</td><td>floral_fantasy</td></tr><tr><th>16</th><td>740889315</td><td>full_day</td></tr><tr><th>17</th><td>740889315</td><td>sky_walk</td></tr><tr><th>18</th><td>740889315</td><td>free_power</td></tr><tr><th>19</th><td>740889315</td><td>battery</td></tr><tr><th>20</th><td>740889315</td><td>light_show</td></tr><tr><th>21</th><td>740889315</td><td>phone</td></tr><tr><th>22</th><td>740889315</td><td>park_ticket</td></tr><tr><th>23</th><td>740889315</td><td>beautiful_attraction</td></tr><tr><th>24</th><td>740889315</td><td>stamp</td></tr><tr><th>25</th><td>740889315</td><td>macdonalds</td></tr><tr><th>26</th><td>740889315</td><td>hand</td></tr><tr><th>27</th><td>740889315</td><td>shuttle</td></tr><tr><th>28</th><td>740889315</td><td>beauty</td></tr><tr><th>29</th><td>740889315</td><td>kids</td></tr><tr><th>30</th><td>740889315</td><td>stations</td></tr><tr><th>&vellip;</th><td>&vellip;</td><td>&vellip;</td></tr></tbody></table>"
      ],
      "text/latex": [
       "\\begin{tabular}{r|cc}\n",
       "\t& REVIEW\\_ID & TEXT\\\\\n",
       "\t\\hline\n",
       "\t& Int64 & String\\\\\n",
       "\t\\hline\n",
       "\t1 & 740945217 & proper\\_guidance \\\\\n",
       "\t2 & 740945217 & good\\_view\\_of\\_skyline \\\\\n",
       "\t3 & 740945217 & place \\\\\n",
       "\t4 & 740945217 & lift \\\\\n",
       "\t5 & 740945217 & bit \\\\\n",
       "\t6 & 740945217 & cons \\\\\n",
       "\t7 & 740945217 & time \\\\\n",
       "\t8 & 740945217 & kidos.very \\\\\n",
       "\t9 & 740889315 & long\\_distances \\\\\n",
       "\t10 & 740889315 & flower\\_dome \\\\\n",
       "\t11 & 740889315 & free\\_children’s\\_water\\_park \\\\\n",
       "\t12 & 740889315 & personal\\_favourite \\\\\n",
       "\t13 & 740889315 & cloud\\_dome \\\\\n",
       "\t14 & 740889315 & park\\_pass \\\\\n",
       "\t15 & 740889315 & floral\\_fantasy \\\\\n",
       "\t16 & 740889315 & full\\_day \\\\\n",
       "\t17 & 740889315 & sky\\_walk \\\\\n",
       "\t18 & 740889315 & free\\_power \\\\\n",
       "\t19 & 740889315 & battery \\\\\n",
       "\t20 & 740889315 & light\\_show \\\\\n",
       "\t21 & 740889315 & phone \\\\\n",
       "\t22 & 740889315 & park\\_ticket \\\\\n",
       "\t23 & 740889315 & beautiful\\_attraction \\\\\n",
       "\t24 & 740889315 & stamp \\\\\n",
       "\t25 & 740889315 & macdonalds \\\\\n",
       "\t26 & 740889315 & hand \\\\\n",
       "\t27 & 740889315 & shuttle \\\\\n",
       "\t28 & 740889315 & beauty \\\\\n",
       "\t29 & 740889315 & kids \\\\\n",
       "\t30 & 740889315 & stations \\\\\n",
       "\t$\\dots$ & $\\dots$ & $\\dots$ \\\\\n",
       "\\end{tabular}\n"
      ],
      "text/plain": [
       "1395772×2 DataFrame\n",
       "│ Row     │ REVIEW_ID │ TEXT                                            │\n",
       "│         │ \u001b[90mInt64\u001b[39m     │ \u001b[90mString\u001b[39m                                          │\n",
       "├─────────┼───────────┼─────────────────────────────────────────────────┤\n",
       "│ 1       │ 740945217 │ proper_guidance                                 │\n",
       "│ 2       │ 740945217 │ good_view_of_skyline                            │\n",
       "│ 3       │ 740945217 │ place                                           │\n",
       "│ 4       │ 740945217 │ lift                                            │\n",
       "│ 5       │ 740945217 │ bit                                             │\n",
       "│ 6       │ 740945217 │ cons                                            │\n",
       "│ 7       │ 740945217 │ time                                            │\n",
       "│ 8       │ 740945217 │ kidos.very                                      │\n",
       "│ 9       │ 740889315 │ long_distances                                  │\n",
       "│ 10      │ 740889315 │ flower_dome                                     │\n",
       "⋮\n",
       "│ 1395762 │ 453587749 │ coffee                                          │\n",
       "│ 1395763 │ 453587749 │ surroundings                                    │\n",
       "│ 1395764 │ 453587749 │ cakes                                           │\n",
       "│ 1395765 │ 453587749 │ comfy_pair_of_shoes                             │\n",
       "│ 1395766 │ 453587749 │ open_view_of_scenic_panoramic_view_of_singapore │\n",
       "│ 1395767 │ 453587749 │ greeneries                                      │\n",
       "│ 1395768 │ 453587749 │ time                                            │\n",
       "│ 1395769 │ 385391472 │ cable_car_riding                                │\n",
       "│ 1395770 │ 385391472 │ limited_parking_lot                             │\n",
       "│ 1395771 │ 385391472 │ short_oneway_distance                           │\n",
       "│ 1395772 │ 385391472 │ clear_skyline_view                              │"
      ]
     },
     "execution_count": 6,
     "metadata": {},
     "output_type": "execute_result"
    }
   ],
   "source": [
    "df.TEXT = replace.(lowercase.(df.TEXT), \" \" => \"_\")\n",
    "df = df[:, 2:3]"
   ]
  },
  {
   "cell_type": "code",
   "execution_count": 16,
   "metadata": {},
   "outputs": [
    {
     "data": {
      "text/html": [
       "<table class=\"data-frame\"><thead><tr><th></th><th>REVIEW_ID</th><th>TEXT_function</th></tr><tr><th></th><th>Int64</th><th>String</th></tr></thead><tbody><p>129,580 rows × 2 columns</p><tr><th>1</th><td>740945217</td><td>proper_guidance good_view_of_skyline place lift bit cons time kidos.very</td></tr><tr><th>2</th><td>740889315</td><td>long_distances flower_dome free_children’s_water_park personal_favourite cloud_dome park_pass floral_fantasy full_day sky_walk free_power battery light_show phone park_ticket beautiful_attraction stamp macdonalds hand shuttle beauty kids stations work area break change_rooms park detail playground food cheaper_food attraction beautiful_photos life_saver walk walking</td></tr><tr><th>3</th><td>740798439</td><td>cloud_forest flower_dome evening_light_show outside_gardens attraction gardens enjoyable_day visit</td></tr><tr><th>4</th><td>740729650</td><td>great_place light_ahow lots_of_places great_cieq_of_singapore skywalk highlight night boys dinner children family_day majestic_restaurant</td></tr><tr><th>5</th><td>740585481</td><td>flower_dome displays_of_beautiful_flora favourite_flowers beautiful_display_of_dahlias cloud_forest doubt cent peaks cny tickets taxi attractions bay levels incredible_experience outside_vistas_of_the_singapore_skyline celebratory_installations extended_gardens own_pace</td></tr><tr><th>6</th><td>740318717</td><td>whole_day second_half_of_the_day night restaurants light_show amazing_garden ashame singapore</td></tr><tr><th>7</th><td>740175555</td><td>lush_greenery nice_ride nice_place cloud_forest flower_dome waterfall floral_fantasy tickets end_of_floral_fantasy time</td></tr><tr><th>8</th><td>740065803</td><td>light_show garden_waltz gardens bay evening daytime garden</td></tr><tr><th>9</th><td>740040729</td><td>light_show amazing_experience sights amazing_pictures</td></tr><tr><th>10</th><td>739992479</td><td>water_play_area fantastic_garden kids family bay trees amazing_collection_of_plants delicious_satay</td></tr><tr><th>11</th><td>739933223</td><td>cloud_forest awsome_experience flower_dome floral_fantasy</td></tr><tr><th>12</th><td>739907763</td><td>disneyland-esque small_world teen photo_ops</td></tr><tr><th>13</th><td>739901045</td><td>entry_cost nature_lover admirer_of_the_quality singaporean_attractions day efficiency flora fauna continents favour scale attraction attention sculptures detail understatement features</td></tr><tr><th>14</th><td>739763739</td><td>fabulous_kids_playgrounds gorgeous_exhibitions world gardens bay light_show singapore</td></tr><tr><th>15</th><td>739715935</td><td>great_experience awesome_light_show place stunning_views_of_singapore ages iconic_marina_bay_sands_hotel things</td></tr><tr><th>16</th><td>739585630</td><td>floral_fantasy_attraction better_views cloud_domes observatory midday_hours tickets things sunset flower wind light gardens views music_show daylight remainder_of_the_park amazing_lighting need</td></tr><tr><th>17</th><td>739577396</td><td>station_bayfront_mrt stretch_of_walk free_entrance garden cloud_forest bay areas conservatories ticket flower_dome bright_sunny_day extra_clothing</td></tr><tr><th>18</th><td>739516978</td><td>best_day sardine gardens</td></tr><tr><th>19</th><td>739359655</td><td>types_of_plant_change best_part carnivorous_plants broad_leaf cloud_forest coniferous_type different_theme flower_dome skyway kids lovely_view_of_the_garden free_light beautiful_indoor_waterfall levels dome water times display night children’s_gardens small_fountains supertrees shows time</td></tr><tr><th>20</th><td>739268448</td><td>cloud_forest garden_tour_package flower_dome stunning_beauty_of_the_gardens minute_audio_tour cool-dry_climate tropical_america admissions people foot art_sculptures guidebook tram plants waterfall bay wall world africa semi-tropical_areas supertree_grove beautiful_floral_christmas outdoor_gardens semi-arid largest_glass_greenhouse cool_moist_climate_of_the_tropical_highlands_of_southeast_asia mediterranean</td></tr><tr><th>21</th><td>739232013</td><td>flower_dome cloud_forest perfect_place beautiful_experience far_east_kids_playground full_day kids perfect_spot rest_of_the_gardens whole_area memorable_photographs family_visit supertrees must singapore</td></tr><tr><th>22</th><td>738928220</td><td>nice_area full_day indoor_gardens trees view evening bay gardens show</td></tr><tr><th>23</th><td>738896713</td><td>lack_of_staff visit great_difficulty escalators downfall famous_gardens singapore people strollers plenty_of_signs wheelchairs bay marina_bay lighting</td></tr><tr><th>24</th><td>738892247</td><td>last_admission great_visit ocbc_skyway attractions big_queue taxis music restaurants gardens lights bay trees end area show</td></tr><tr><th>25</th><td>738845811</td><td>messages_of_client_change great_place excellent_gardens fantastic_flora excellent_experience message importance_of_our_diverse_plant_life disaster ability education flowers fauna colour greatest_gardens world nature air_con_domes cloud_domes delicate_balance_of_nature diversity_of_our_planet must</td></tr><tr><th>26</th><td>738826250</td><td>christmas_theme_song super_tree kid dec hrs skywalk time</td></tr><tr><th>27</th><td>738790636</td><td>free_entry beautiful_garden domes skywalk visit</td></tr><tr><th>28</th><td>738589132</td><td>lovely_early_evening_visit great_quick_dinner satay bay light_show excellent_public_facility supertree_grove visit</td></tr><tr><th>29</th><td>738540921</td><td>good_part_of_the_day pay_attractions kids playground spot itinerary amazing_place water_play_area free_play_areas time</td></tr><tr><th>30</th><td>738473640</td><td>tourist_spot singapore_🇸🇬 place family</td></tr><tr><th>&vellip;</th><td>&vellip;</td><td>&vellip;</td></tr></tbody></table>"
      ],
      "text/latex": [
       "\\begin{tabular}{r|cc}\n",
       "\t& REVIEW\\_ID & TEXT\\_function\\\\\n",
       "\t\\hline\n",
       "\t& Int64 & String\\\\\n",
       "\t\\hline\n",
       "\t1 & 740945217 & proper\\_guidance good\\_view\\_of\\_skyline place lift bit cons time kidos.very \\\\\n",
       "\t2 & 740889315 & long\\_distances flower\\_dome free\\_children’s\\_water\\_park personal\\_favourite cloud\\_dome park\\_pass floral\\_fantasy full\\_day sky\\_walk free\\_power battery light\\_show phone park\\_ticket beautiful\\_attraction stamp macdonalds hand shuttle beauty kids stations work area break change\\_rooms park detail playground food cheaper\\_food attraction beautiful\\_photos life\\_saver walk walking \\\\\n",
       "\t3 & 740798439 & cloud\\_forest flower\\_dome evening\\_light\\_show outside\\_gardens attraction gardens enjoyable\\_day visit \\\\\n",
       "\t4 & 740729650 & great\\_place light\\_ahow lots\\_of\\_places great\\_cieq\\_of\\_singapore skywalk highlight night boys dinner children family\\_day majestic\\_restaurant \\\\\n",
       "\t5 & 740585481 & flower\\_dome displays\\_of\\_beautiful\\_flora favourite\\_flowers beautiful\\_display\\_of\\_dahlias cloud\\_forest doubt cent peaks cny tickets taxi attractions bay levels incredible\\_experience outside\\_vistas\\_of\\_the\\_singapore\\_skyline celebratory\\_installations extended\\_gardens own\\_pace \\\\\n",
       "\t6 & 740318717 & whole\\_day second\\_half\\_of\\_the\\_day night restaurants light\\_show amazing\\_garden ashame singapore \\\\\n",
       "\t7 & 740175555 & lush\\_greenery nice\\_ride nice\\_place cloud\\_forest flower\\_dome waterfall floral\\_fantasy tickets end\\_of\\_floral\\_fantasy time \\\\\n",
       "\t8 & 740065803 & light\\_show garden\\_waltz gardens bay evening daytime garden \\\\\n",
       "\t9 & 740040729 & light\\_show amazing\\_experience sights amazing\\_pictures \\\\\n",
       "\t10 & 739992479 & water\\_play\\_area fantastic\\_garden kids family bay trees amazing\\_collection\\_of\\_plants delicious\\_satay \\\\\n",
       "\t11 & 739933223 & cloud\\_forest awsome\\_experience flower\\_dome floral\\_fantasy \\\\\n",
       "\t12 & 739907763 & disneyland-esque small\\_world teen photo\\_ops \\\\\n",
       "\t13 & 739901045 & entry\\_cost nature\\_lover admirer\\_of\\_the\\_quality singaporean\\_attractions day efficiency flora fauna continents favour scale attraction attention sculptures detail understatement features \\\\\n",
       "\t14 & 739763739 & fabulous\\_kids\\_playgrounds gorgeous\\_exhibitions world gardens bay light\\_show singapore \\\\\n",
       "\t15 & 739715935 & great\\_experience awesome\\_light\\_show place stunning\\_views\\_of\\_singapore ages iconic\\_marina\\_bay\\_sands\\_hotel things \\\\\n",
       "\t16 & 739585630 & floral\\_fantasy\\_attraction better\\_views cloud\\_domes observatory midday\\_hours tickets things sunset flower wind light gardens views music\\_show daylight remainder\\_of\\_the\\_park amazing\\_lighting need \\\\\n",
       "\t17 & 739577396 & station\\_bayfront\\_mrt stretch\\_of\\_walk free\\_entrance garden cloud\\_forest bay areas conservatories ticket flower\\_dome bright\\_sunny\\_day extra\\_clothing \\\\\n",
       "\t18 & 739516978 & best\\_day sardine gardens \\\\\n",
       "\t19 & 739359655 & types\\_of\\_plant\\_change best\\_part carnivorous\\_plants broad\\_leaf cloud\\_forest coniferous\\_type different\\_theme flower\\_dome skyway kids lovely\\_view\\_of\\_the\\_garden free\\_light beautiful\\_indoor\\_waterfall levels dome water times display night children’s\\_gardens small\\_fountains supertrees shows time \\\\\n",
       "\t20 & 739268448 & cloud\\_forest garden\\_tour\\_package flower\\_dome stunning\\_beauty\\_of\\_the\\_gardens minute\\_audio\\_tour cool-dry\\_climate tropical\\_america admissions people foot art\\_sculptures guidebook tram plants waterfall bay wall world africa semi-tropical\\_areas supertree\\_grove beautiful\\_floral\\_christmas outdoor\\_gardens semi-arid largest\\_glass\\_greenhouse cool\\_moist\\_climate\\_of\\_the\\_tropical\\_highlands\\_of\\_southeast\\_asia mediterranean \\\\\n",
       "\t21 & 739232013 & flower\\_dome cloud\\_forest perfect\\_place beautiful\\_experience far\\_east\\_kids\\_playground full\\_day kids perfect\\_spot rest\\_of\\_the\\_gardens whole\\_area memorable\\_photographs family\\_visit supertrees must singapore \\\\\n",
       "\t22 & 738928220 & nice\\_area full\\_day indoor\\_gardens trees view evening bay gardens show \\\\\n",
       "\t23 & 738896713 & lack\\_of\\_staff visit great\\_difficulty escalators downfall famous\\_gardens singapore people strollers plenty\\_of\\_signs wheelchairs bay marina\\_bay lighting \\\\\n",
       "\t24 & 738892247 & last\\_admission great\\_visit ocbc\\_skyway attractions big\\_queue taxis music restaurants gardens lights bay trees end area show \\\\\n",
       "\t25 & 738845811 & messages\\_of\\_client\\_change great\\_place excellent\\_gardens fantastic\\_flora excellent\\_experience message importance\\_of\\_our\\_diverse\\_plant\\_life disaster ability education flowers fauna colour greatest\\_gardens world nature air\\_con\\_domes cloud\\_domes delicate\\_balance\\_of\\_nature diversity\\_of\\_our\\_planet must \\\\\n",
       "\t26 & 738826250 & christmas\\_theme\\_song super\\_tree kid dec hrs skywalk time \\\\\n",
       "\t27 & 738790636 & free\\_entry beautiful\\_garden domes skywalk visit \\\\\n",
       "\t28 & 738589132 & lovely\\_early\\_evening\\_visit great\\_quick\\_dinner satay bay light\\_show excellent\\_public\\_facility supertree\\_grove visit \\\\\n",
       "\t29 & 738540921 & good\\_part\\_of\\_the\\_day pay\\_attractions kids playground spot itinerary amazing\\_place water\\_play\\_area free\\_play\\_areas time \\\\\n",
       "\t30 & 738473640 & tourist\\_spot singapore\\_🇸🇬 place family \\\\\n",
       "\t$\\dots$ & $\\dots$ & $\\dots$ \\\\\n",
       "\\end{tabular}\n"
      ],
      "text/plain": [
       "129580×2 DataFrame. Omitted printing of 1 columns\n",
       "│ Row    │ REVIEW_ID │\n",
       "│        │ \u001b[90mInt64\u001b[39m     │\n",
       "├────────┼───────────┤\n",
       "│ 1      │ 740945217 │\n",
       "│ 2      │ 740889315 │\n",
       "│ 3      │ 740798439 │\n",
       "│ 4      │ 740729650 │\n",
       "│ 5      │ 740585481 │\n",
       "│ 6      │ 740318717 │\n",
       "│ 7      │ 740175555 │\n",
       "│ 8      │ 740065803 │\n",
       "│ 9      │ 740040729 │\n",
       "│ 10     │ 739992479 │\n",
       "⋮\n",
       "│ 129570 │ 604083233 │\n",
       "│ 129571 │ 515049924 │\n",
       "│ 129572 │ 414812377 │\n",
       "│ 129573 │ 385852027 │\n",
       "│ 129574 │ 646031400 │\n",
       "│ 129575 │ 539547900 │\n",
       "│ 129576 │ 493880234 │\n",
       "│ 129577 │ 465202864 │\n",
       "│ 129578 │ 461015223 │\n",
       "│ 129579 │ 453587749 │\n",
       "│ 129580 │ 385391472 │"
      ]
     },
     "execution_count": 16,
     "metadata": {},
     "output_type": "execute_result"
    }
   ],
   "source": [
    "final_df = by(df, :REVIEW_ID, :TEXT => x -> join(x, \" \"))"
   ]
  },
  {
   "cell_type": "code",
   "execution_count": null,
   "metadata": {},
   "outputs": [],
   "source": []
  }
 ],
 "metadata": {
  "kernelspec": {
   "display_name": "Julia 1.3.1",
   "language": "julia",
   "name": "julia-1.3"
  },
  "language_info": {
   "file_extension": ".jl",
   "mimetype": "application/julia",
   "name": "julia",
   "version": "1.3.1"
  }
 },
 "nbformat": 4,
 "nbformat_minor": 4
}
