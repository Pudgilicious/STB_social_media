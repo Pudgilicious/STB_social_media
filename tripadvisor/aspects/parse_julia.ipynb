{
 "cells": [
  {
   "cell_type": "code",
   "execution_count": 1,
   "metadata": {},
   "outputs": [],
   "source": [
    "using DataFrames\n",
    "using CSV"
   ]
  },
  {
   "cell_type": "code",
   "execution_count": 9,
   "metadata": {},
   "outputs": [
    {
     "data": {
      "text/plain": [
       "12-element Array{String,1}:\n",
       " \"200125_142611\"\n",
       " \"200126_094431\"\n",
       " \"200128_111646\"\n",
       " \"200129_102527\"\n",
       " \"200129_172433\"\n",
       " \"200130_091345\"\n",
       " \"200130_102635\"\n",
       " \"200130_113340\"\n",
       " \"200130_135426\"\n",
       " \"200131_090828\"\n",
       " \"200131_102045\"\n",
       " \"200131_161919\""
      ]
     },
     "execution_count": 9,
     "metadata": {},
     "output_type": "execute_result"
    }
   ],
   "source": [
    "path = \"/home/zyf0717/git/STB_social_media_analytics/tripadvisor/finalised_output/\"\n",
    "folders = readdir(path)"
   ]
  },
  {
   "cell_type": "code",
   "execution_count": 22,
   "metadata": {},
   "outputs": [
    {
     "data": {
      "text/plain": [
       "12-element Array{String,1}:\n",
       " \"/home/zyf0717/git/STB_social_media_analytics/tripadvisor/finalised_output/200125_142611/sentiments_200131_203616/\"\n",
       " \"/home/zyf0717/git/STB_social_media_analytics/tripadvisor/finalised_output/200126_094431/sentiments_200207_093105/\"\n",
       " \"/home/zyf0717/git/STB_social_media_analytics/tripadvisor/finalised_output/200128_111646/sentiments_200208_115417/\"\n",
       " \"/home/zyf0717/git/STB_social_media_analytics/tripadvisor/finalised_output/200129_102527/sentiments_200208_140749/\"\n",
       " \"/home/zyf0717/git/STB_social_media_analytics/tripadvisor/finalised_output/200129_172433/sentiments_200208_233650/\"\n",
       " \"/home/zyf0717/git/STB_social_media_analytics/tripadvisor/finalised_output/200130_091345/sentiments_200210_115651/\"\n",
       " \"/home/zyf0717/git/STB_social_media_analytics/tripadvisor/finalised_output/200130_102635/sentiments_200210_112643/\"\n",
       " \"/home/zyf0717/git/STB_social_media_analytics/tripadvisor/finalised_output/200130_113340/sentiments_200209_135726/\"\n",
       " \"/home/zyf0717/git/STB_social_media_analytics/tripadvisor/finalised_output/200130_135426/sentiments_200210_132315/\"\n",
       " \"/home/zyf0717/git/STB_social_media_analytics/tripadvisor/finalised_output/200131_090828/sentiments_200211_103140/\"\n",
       " \"/home/zyf0717/git/STB_social_media_analytics/tripadvisor/finalised_output/200131_102045/sentiments_200211_111136/\"\n",
       " \"/home/zyf0717/git/STB_social_media_analytics/tripadvisor/finalised_output/200131_161919/sentiments_200211_112653/\""
      ]
     },
     "execution_count": 22,
     "metadata": {},
     "output_type": "execute_result"
    }
   ],
   "source": [
    "folder_paths = String[]\n",
    "for folder in folders\n",
    "    temp_folders = readdir(path * folder * \"/\")\n",
    "    for sub_folder in temp_folders\n",
    "        if findfirst(\"sentiments\", sub_folder) != nothing\n",
    "            p = path * folder * \"/\" * sub_folder * \"/\"\n",
    "            push!(folder_paths, p)\n",
    "        end\n",
    "    end\n",
    "end\n",
    "\n",
    "folder_paths"
   ]
  },
  {
   "cell_type": "code",
   "execution_count": 39,
   "metadata": {},
   "outputs": [
    {
     "data": {
      "text/plain": [
       "(1399709, 13)"
      ]
     },
     "execution_count": 39,
     "metadata": {},
     "output_type": "execute_result"
    }
   ],
   "source": [
    "df = nothing\n",
    "for folder_path in folder_paths\n",
    "    files = readdir(folder_path)\n",
    "    for file in files\n",
    "        if findfirst(\"keywords\", file) != nothing\n",
    "            if df == nothing\n",
    "                df = CSV.read(folder_path * file)\n",
    "            else          \n",
    "                df = vcat(df, CSV.read(folder_path * file))\n",
    "            end\n",
    "        end\n",
    "    end\n",
    "end\n",
    "\n",
    "size(df)"
   ]
  },
  {
   "cell_type": "code",
   "execution_count": 40,
   "metadata": {},
   "outputs": [
    {
     "data": {
      "text/plain": [
       "(1395772, 13)"
      ]
     },
     "execution_count": 40,
     "metadata": {},
     "output_type": "execute_result"
    }
   ],
   "source": [
    "deleterows!(df, nonunique(df))\n",
    "size(df)"
   ]
  },
  {
   "cell_type": "code",
   "execution_count": 48,
   "metadata": {},
   "outputs": [
    {
     "data": {
      "text/html": [
       "<table class=\"data-frame\"><thead><tr><th></th><th>WEBSITE_ID</th><th>REVIEW_ID</th><th>TEXT</th><th>RELEVANCE</th><th>COUNT</th><th>SENTIMENT_SCORE</th></tr><tr><th></th><th>Int64</th><th>Int64</th><th>String</th><th>Float64</th><th>Int64⍰</th><th>Float64</th></tr></thead><tbody><p>1,395,772 rows × 13 columns (omitted printing of 7 columns)</p><tr><th>1</th><td>1</td><td>740945217</td><td>proper_guidance</td><td>0.88227</td><td>1</td><td>0.0</td></tr><tr><th>2</th><td>1</td><td>740945217</td><td>good_view_of_skyline</td><td>0.846293</td><td>1</td><td>0.984403</td></tr><tr><th>3</th><td>1</td><td>740945217</td><td>place</td><td>0.738354</td><td>1</td><td>0.984403</td></tr><tr><th>4</th><td>1</td><td>740945217</td><td>lift</td><td>0.557855</td><td>1</td><td>0.984403</td></tr><tr><th>5</th><td>1</td><td>740945217</td><td>bit</td><td>0.539448</td><td>1</td><td>0.984403</td></tr><tr><th>6</th><td>1</td><td>740945217</td><td>cons</td><td>0.532556</td><td>1</td><td>0.846198</td></tr><tr><th>7</th><td>1</td><td>740945217</td><td>time</td><td>0.364001</td><td>1</td><td>0.984403</td></tr><tr><th>8</th><td>1</td><td>740945217</td><td>kidos.very</td><td>0.350971</td><td>1</td><td>0.984403</td></tr><tr><th>9</th><td>1</td><td>740889315</td><td>long_distances</td><td>0.714292</td><td>1</td><td>0.0</td></tr><tr><th>10</th><td>1</td><td>740889315</td><td>flower_dome</td><td>0.699063</td><td>1</td><td>0.95767</td></tr><tr><th>11</th><td>1</td><td>740889315</td><td>free_children’s_water_park</td><td>0.656941</td><td>1</td><td>0.56923</td></tr><tr><th>12</th><td>1</td><td>740889315</td><td>personal_favourite</td><td>0.639381</td><td>1</td><td>0.95767</td></tr><tr><th>13</th><td>1</td><td>740889315</td><td>cloud_dome</td><td>0.608484</td><td>1</td><td>0.95767</td></tr><tr><th>14</th><td>1</td><td>740889315</td><td>park_pass</td><td>0.606877</td><td>1</td><td>0.95767</td></tr><tr><th>15</th><td>1</td><td>740889315</td><td>floral_fantasy</td><td>0.591818</td><td>1</td><td>0.95767</td></tr><tr><th>16</th><td>1</td><td>740889315</td><td>full_day</td><td>0.580023</td><td>1</td><td>0.971563</td></tr><tr><th>17</th><td>1</td><td>740889315</td><td>sky_walk</td><td>0.555639</td><td>1</td><td>0.95767</td></tr><tr><th>18</th><td>1</td><td>740889315</td><td>free_power</td><td>0.548581</td><td>1</td><td>-0.609671</td></tr><tr><th>19</th><td>1</td><td>740889315</td><td>battery</td><td>0.527925</td><td>1</td><td>-0.609671</td></tr><tr><th>20</th><td>1</td><td>740889315</td><td>light_show</td><td>0.524934</td><td>1</td><td>0.933634</td></tr><tr><th>21</th><td>1</td><td>740889315</td><td>phone</td><td>0.522072</td><td>1</td><td>-0.609671</td></tr><tr><th>22</th><td>1</td><td>740889315</td><td>park_ticket</td><td>0.521788</td><td>1</td><td>0.56923</td></tr><tr><th>23</th><td>1</td><td>740889315</td><td>beautiful_attraction</td><td>0.52165</td><td>1</td><td>0.955535</td></tr><tr><th>24</th><td>1</td><td>740889315</td><td>stamp</td><td>0.520585</td><td>1</td><td>0.0</td></tr><tr><th>25</th><td>1</td><td>740889315</td><td>macdonalds</td><td>0.5174</td><td>1</td><td>0.740678</td></tr><tr><th>26</th><td>1</td><td>740889315</td><td>hand</td><td>0.51445</td><td>1</td><td>0.0</td></tr><tr><th>27</th><td>1</td><td>740889315</td><td>shuttle</td><td>0.514368</td><td>1</td><td>0.0</td></tr><tr><th>28</th><td>1</td><td>740889315</td><td>beauty</td><td>0.512855</td><td>1</td><td>0.971563</td></tr><tr><th>29</th><td>1</td><td>740889315</td><td>kids</td><td>0.511261</td><td>1</td><td>0.56923</td></tr><tr><th>30</th><td>1</td><td>740889315</td><td>stations</td><td>0.511261</td><td>1</td><td>-0.609671</td></tr><tr><th>&vellip;</th><td>&vellip;</td><td>&vellip;</td><td>&vellip;</td><td>&vellip;</td><td>&vellip;</td><td>&vellip;</td></tr></tbody></table>"
      ],
      "text/latex": [
       "\\begin{tabular}{r|ccccccc}\n",
       "\t& WEBSITE\\_ID & REVIEW\\_ID & TEXT & RELEVANCE & COUNT & SENTIMENT\\_SCORE & \\\\\n",
       "\t\\hline\n",
       "\t& Int64 & Int64 & String & Float64 & Int64⍰ & Float64 & \\\\\n",
       "\t\\hline\n",
       "\t1 & 1 & 740945217 & proper\\_guidance & 0.88227 & 1 & 0.0 & $\\dots$ \\\\\n",
       "\t2 & 1 & 740945217 & good\\_view\\_of\\_skyline & 0.846293 & 1 & 0.984403 & $\\dots$ \\\\\n",
       "\t3 & 1 & 740945217 & place & 0.738354 & 1 & 0.984403 & $\\dots$ \\\\\n",
       "\t4 & 1 & 740945217 & lift & 0.557855 & 1 & 0.984403 & $\\dots$ \\\\\n",
       "\t5 & 1 & 740945217 & bit & 0.539448 & 1 & 0.984403 & $\\dots$ \\\\\n",
       "\t6 & 1 & 740945217 & cons & 0.532556 & 1 & 0.846198 & $\\dots$ \\\\\n",
       "\t7 & 1 & 740945217 & time & 0.364001 & 1 & 0.984403 & $\\dots$ \\\\\n",
       "\t8 & 1 & 740945217 & kidos.very & 0.350971 & 1 & 0.984403 & $\\dots$ \\\\\n",
       "\t9 & 1 & 740889315 & long\\_distances & 0.714292 & 1 & 0.0 & $\\dots$ \\\\\n",
       "\t10 & 1 & 740889315 & flower\\_dome & 0.699063 & 1 & 0.95767 & $\\dots$ \\\\\n",
       "\t11 & 1 & 740889315 & free\\_children’s\\_water\\_park & 0.656941 & 1 & 0.56923 & $\\dots$ \\\\\n",
       "\t12 & 1 & 740889315 & personal\\_favourite & 0.639381 & 1 & 0.95767 & $\\dots$ \\\\\n",
       "\t13 & 1 & 740889315 & cloud\\_dome & 0.608484 & 1 & 0.95767 & $\\dots$ \\\\\n",
       "\t14 & 1 & 740889315 & park\\_pass & 0.606877 & 1 & 0.95767 & $\\dots$ \\\\\n",
       "\t15 & 1 & 740889315 & floral\\_fantasy & 0.591818 & 1 & 0.95767 & $\\dots$ \\\\\n",
       "\t16 & 1 & 740889315 & full\\_day & 0.580023 & 1 & 0.971563 & $\\dots$ \\\\\n",
       "\t17 & 1 & 740889315 & sky\\_walk & 0.555639 & 1 & 0.95767 & $\\dots$ \\\\\n",
       "\t18 & 1 & 740889315 & free\\_power & 0.548581 & 1 & -0.609671 & $\\dots$ \\\\\n",
       "\t19 & 1 & 740889315 & battery & 0.527925 & 1 & -0.609671 & $\\dots$ \\\\\n",
       "\t20 & 1 & 740889315 & light\\_show & 0.524934 & 1 & 0.933634 & $\\dots$ \\\\\n",
       "\t21 & 1 & 740889315 & phone & 0.522072 & 1 & -0.609671 & $\\dots$ \\\\\n",
       "\t22 & 1 & 740889315 & park\\_ticket & 0.521788 & 1 & 0.56923 & $\\dots$ \\\\\n",
       "\t23 & 1 & 740889315 & beautiful\\_attraction & 0.52165 & 1 & 0.955535 & $\\dots$ \\\\\n",
       "\t24 & 1 & 740889315 & stamp & 0.520585 & 1 & 0.0 & $\\dots$ \\\\\n",
       "\t25 & 1 & 740889315 & macdonalds & 0.5174 & 1 & 0.740678 & $\\dots$ \\\\\n",
       "\t26 & 1 & 740889315 & hand & 0.51445 & 1 & 0.0 & $\\dots$ \\\\\n",
       "\t27 & 1 & 740889315 & shuttle & 0.514368 & 1 & 0.0 & $\\dots$ \\\\\n",
       "\t28 & 1 & 740889315 & beauty & 0.512855 & 1 & 0.971563 & $\\dots$ \\\\\n",
       "\t29 & 1 & 740889315 & kids & 0.511261 & 1 & 0.56923 & $\\dots$ \\\\\n",
       "\t30 & 1 & 740889315 & stations & 0.511261 & 1 & -0.609671 & $\\dots$ \\\\\n",
       "\t$\\dots$ & $\\dots$ & $\\dots$ & $\\dots$ & $\\dots$ & $\\dots$ & $\\dots$ &  \\\\\n",
       "\\end{tabular}\n"
      ],
      "text/plain": [
       "1395772×13 DataFrame. Omitted printing of 11 columns\n",
       "│ Row     │ WEBSITE_ID │ REVIEW_ID │\n",
       "│         │ \u001b[90mInt64\u001b[39m      │ \u001b[90mInt64\u001b[39m     │\n",
       "├─────────┼────────────┼───────────┤\n",
       "│ 1       │ 1          │ 740945217 │\n",
       "│ 2       │ 1          │ 740945217 │\n",
       "│ 3       │ 1          │ 740945217 │\n",
       "│ 4       │ 1          │ 740945217 │\n",
       "│ 5       │ 1          │ 740945217 │\n",
       "│ 6       │ 1          │ 740945217 │\n",
       "│ 7       │ 1          │ 740945217 │\n",
       "│ 8       │ 1          │ 740945217 │\n",
       "│ 9       │ 1          │ 740889315 │\n",
       "│ 10      │ 1          │ 740889315 │\n",
       "⋮\n",
       "│ 1395762 │ 1          │ 453587749 │\n",
       "│ 1395763 │ 1          │ 453587749 │\n",
       "│ 1395764 │ 1          │ 453587749 │\n",
       "│ 1395765 │ 1          │ 453587749 │\n",
       "│ 1395766 │ 1          │ 453587749 │\n",
       "│ 1395767 │ 1          │ 453587749 │\n",
       "│ 1395768 │ 1          │ 453587749 │\n",
       "│ 1395769 │ 1          │ 385391472 │\n",
       "│ 1395770 │ 1          │ 385391472 │\n",
       "│ 1395771 │ 1          │ 385391472 │\n",
       "│ 1395772 │ 1          │ 385391472 │"
      ]
     },
     "execution_count": 48,
     "metadata": {},
     "output_type": "execute_result"
    }
   ],
   "source": [
    "df.TEXT = replace.(lowercase.(df.TEXT), \" \" => \"_\")\n",
    "const cleaned_df = copy(df)"
   ]
  }
 ],
 "metadata": {
  "kernelspec": {
   "display_name": "Julia 1.3.1",
   "language": "julia",
   "name": "julia-1.3"
  },
  "language_info": {
   "file_extension": ".jl",
   "mimetype": "application/julia",
   "name": "julia",
   "version": "1.3.1"
  }
 },
 "nbformat": 4,
 "nbformat_minor": 4
}
