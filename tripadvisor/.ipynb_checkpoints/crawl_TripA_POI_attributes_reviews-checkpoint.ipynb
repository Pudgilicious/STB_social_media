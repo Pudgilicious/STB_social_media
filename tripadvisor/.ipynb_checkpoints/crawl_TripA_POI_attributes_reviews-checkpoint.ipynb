{
 "cells": [
  {
   "cell_type": "code",
   "execution_count": 1,
   "metadata": {},
   "outputs": [],
   "source": [
    "import pandas as pd\n",
    "import mysql.connector\n",
    "\n",
    "import utils"
   ]
  },
  {
   "cell_type": "code",
   "execution_count": 2,
   "metadata": {},
   "outputs": [],
   "source": [
    "cnx = mysql.connector.connect(host='localhost',\n",
    "                              database='sentimentDB',\n",
    "                              user='test_user',\n",
    "                              password='Password123!')"
   ]
  },
  {
   "cell_type": "code",
   "execution_count": null,
   "metadata": {},
   "outputs": [],
   "source": [
    "class crawl_trip_advisor(object):\n",
    "    \n",
    "    def __init__(self, cnx):\n",
    "        cursor = cnx.cursor()\n",
    "        self.reviews = pd.DataFrame(index=index, columns=columns)\n",
    "        self.poi_list = [] # Extract from db."
   ]
  }
 ],
 "metadata": {
  "kernelspec": {
   "display_name": "Python 3",
   "language": "python",
   "name": "python3"
  },
  "language_info": {
   "codemirror_mode": {
    "name": "ipython",
    "version": 3
   },
   "file_extension": ".py",
   "mimetype": "text/x-python",
   "name": "python",
   "nbconvert_exporter": "python",
   "pygments_lexer": "ipython3",
   "version": "3.7.4"
  }
 },
 "nbformat": 4,
 "nbformat_minor": 4
}
