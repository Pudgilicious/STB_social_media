{
 "cells": [
  {
   "cell_type": "code",
   "execution_count": 2,
   "metadata": {},
   "outputs": [
    {
     "name": "stdout",
     "output_type": "stream",
     "text": [
      "/home/zyf0717/git_environment/STB_social_media_analytics\n"
     ]
    }
   ],
   "source": [
    "# Amend to set wd to STB_social_media_analytics.\n",
    "%cd /home/zyf0717/git_environment/STB_social_media_analytics/"
   ]
  },
  {
   "cell_type": "code",
   "execution_count": 3,
   "metadata": {},
   "outputs": [],
   "source": [
    "import pandas as pd\n",
    "import mysql.connector\n",
    "import yaml\n",
    "import utils"
   ]
  },
  {
   "cell_type": "code",
   "execution_count": 5,
   "metadata": {},
   "outputs": [],
   "source": [
    "with open('config_file.yml') as file:\n",
    "    configs = yaml.load(file, Loader=yaml.FullLoader)\n",
    "\n",
    "cnx = mysql.connector.connect(host=configs['host'],\n",
    "                              database=configs['database'],\n",
    "                              user=configs['user'],\n",
    "                              password=configs['password'])\n",
    "\n",
    "driver = webdriver.Chrome('./chromedriver')\n",
    "\n",
    "# Primary key is 'POI_index'.\n",
    "TripA_POI_cols = ['POI_index',\n",
    "                  'total_reviews',\n",
    "                  'ranking',\n",
    "                  'rating_1_proportion',\n",
    "                  'rating_2_proportion',\n",
    "                  'rating_3_proportion',\n",
    "                  'rating_4_proportion',\n",
    "                  'rating_5_proportion',\n",
    "                  'about',\n",
    "                  'price',\n",
    "                  'address',\n",
    "                  'website',\n",
    "                  'email',\n",
    "                  'attributes_crawled_time'\n",
    "                 ]\n",
    "\n",
    "# Primary key is 'review_index', autoincrement in DB.\n",
    "TripA_reviews_cols = ['POI_indes',\n",
    "                      'reviewer_name',\n",
    "                      'raw_home_location',\n",
    "                      'cleaned_home_location',\n",
    "                      'number_of_contributions',\n",
    "                      'helpful_votes',\n",
    "                      'review_date',\n",
    "                      'review_title',\n",
    "                      'review_body',\n",
    "                      'date_of_experience',\n",
    "                      'trip_type',\n",
    "                      'review_cralwed_time'\n",
    "                     ]\n",
    "\n",
    "poi_df = pd.DataFrame(columns=TripA_POI_cols)\n",
    "\n",
    "url = 'https://www.tripadvisor.com.sg/Attraction_Review-g294265-d2149128-Reviews-Gardens_by_the_Bay-Singapore.html'"
   ]
  },
  {
   "cell_type": "code",
   "execution_count": null,
   "metadata": {},
   "outputs": [],
   "source": []
  }
 ],
 "metadata": {
  "kernelspec": {
   "display_name": "Python 3",
   "language": "python",
   "name": "python3"
  },
  "language_info": {
   "codemirror_mode": {
    "name": "ipython",
    "version": 3
   },
   "file_extension": ".py",
   "mimetype": "text/x-python",
   "name": "python",
   "nbconvert_exporter": "python",
   "pygments_lexer": "ipython3",
   "version": "3.7.4"
  }
 },
 "nbformat": 4,
 "nbformat_minor": 4
}
