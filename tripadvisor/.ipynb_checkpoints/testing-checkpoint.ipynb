{
 "cells": [
  {
   "cell_type": "code",
   "execution_count": 19,
   "metadata": {},
   "outputs": [],
   "source": [
    "import pandas as pd"
   ]
  },
  {
   "cell_type": "code",
   "execution_count": 20,
   "metadata": {},
   "outputs": [
    {
     "data": {
      "text/html": [
       "<div>\n",
       "<style scoped>\n",
       "    .dataframe tbody tr th:only-of-type {\n",
       "        vertical-align: middle;\n",
       "    }\n",
       "\n",
       "    .dataframe tbody tr th {\n",
       "        vertical-align: top;\n",
       "    }\n",
       "\n",
       "    .dataframe thead th {\n",
       "        text-align: right;\n",
       "    }\n",
       "</style>\n",
       "<table border=\"1\" class=\"dataframe\">\n",
       "  <thead>\n",
       "    <tr style=\"text-align: right;\">\n",
       "      <th></th>\n",
       "      <th>INDEX</th>\n",
       "      <th>POI</th>\n",
       "      <th>URL</th>\n",
       "    </tr>\n",
       "  </thead>\n",
       "  <tbody>\n",
       "    <tr>\n",
       "      <th>0</th>\n",
       "      <td>1</td>\n",
       "      <td>Gardens by the Bay</td>\n",
       "      <td>/Attraction_Review-g294265-d2149128-Reviews-Ga...</td>\n",
       "    </tr>\n",
       "    <tr>\n",
       "      <th>1</th>\n",
       "      <td>2</td>\n",
       "      <td>Singapore Botanic Gardens</td>\n",
       "      <td>/Attraction_Review-g294265-d310900-Reviews-Sin...</td>\n",
       "    </tr>\n",
       "    <tr>\n",
       "      <th>2</th>\n",
       "      <td>3</td>\n",
       "      <td>Singapore Zoo</td>\n",
       "      <td>/Attraction_Review-g294265-d324542-Reviews-Sin...</td>\n",
       "    </tr>\n",
       "    <tr>\n",
       "      <th>3</th>\n",
       "      <td>4</td>\n",
       "      <td>National Orchid Garden</td>\n",
       "      <td>/Attraction_Review-g294265-d317453-Reviews-Nat...</td>\n",
       "    </tr>\n",
       "    <tr>\n",
       "      <th>4</th>\n",
       "      <td>5</td>\n",
       "      <td>Cloud Forest</td>\n",
       "      <td>/Attraction_Review-g294265-d4400781-Reviews-Cl...</td>\n",
       "    </tr>\n",
       "    <tr>\n",
       "      <th>...</th>\n",
       "      <td>...</td>\n",
       "      <td>...</td>\n",
       "      <td>...</td>\n",
       "    </tr>\n",
       "    <tr>\n",
       "      <th>824</th>\n",
       "      <td>825</td>\n",
       "      <td>Apsara Antiques &amp; Arts</td>\n",
       "      <td>/Attraction_Review-g294265-d2338932-Reviews-Ap...</td>\n",
       "    </tr>\n",
       "    <tr>\n",
       "      <th>825</th>\n",
       "      <td>826</td>\n",
       "      <td>Old Kindergarten</td>\n",
       "      <td>/Attraction_Review-g294265-d2057167-Reviews-Ol...</td>\n",
       "    </tr>\n",
       "    <tr>\n",
       "      <th>826</th>\n",
       "      <td>827</td>\n",
       "      <td>Artfolio Gallery</td>\n",
       "      <td>/Attraction_Review-g294265-d591442-Reviews-Art...</td>\n",
       "    </tr>\n",
       "    <tr>\n",
       "      <th>827</th>\n",
       "      <td>828</td>\n",
       "      <td>Art-2</td>\n",
       "      <td>/Attraction_Review-g294265-d591436-Reviews-Art...</td>\n",
       "    </tr>\n",
       "    <tr>\n",
       "      <th>828</th>\n",
       "      <td>829</td>\n",
       "      <td>Art Forum</td>\n",
       "      <td>/Attraction_Review-g294265-d591435-Reviews-Art...</td>\n",
       "    </tr>\n",
       "  </tbody>\n",
       "</table>\n",
       "<p>829 rows × 3 columns</p>\n",
       "</div>"
      ],
      "text/plain": [
       "     INDEX                        POI  \\\n",
       "0        1         Gardens by the Bay   \n",
       "1        2  Singapore Botanic Gardens   \n",
       "2        3              Singapore Zoo   \n",
       "3        4     National Orchid Garden   \n",
       "4        5               Cloud Forest   \n",
       "..     ...                        ...   \n",
       "824    825     Apsara Antiques & Arts   \n",
       "825    826           Old Kindergarten   \n",
       "826    827           Artfolio Gallery   \n",
       "827    828                      Art-2   \n",
       "828    829                  Art Forum   \n",
       "\n",
       "                                                   URL  \n",
       "0    /Attraction_Review-g294265-d2149128-Reviews-Ga...  \n",
       "1    /Attraction_Review-g294265-d310900-Reviews-Sin...  \n",
       "2    /Attraction_Review-g294265-d324542-Reviews-Sin...  \n",
       "3    /Attraction_Review-g294265-d317453-Reviews-Nat...  \n",
       "4    /Attraction_Review-g294265-d4400781-Reviews-Cl...  \n",
       "..                                                 ...  \n",
       "824  /Attraction_Review-g294265-d2338932-Reviews-Ap...  \n",
       "825  /Attraction_Review-g294265-d2057167-Reviews-Ol...  \n",
       "826  /Attraction_Review-g294265-d591442-Reviews-Art...  \n",
       "827  /Attraction_Review-g294265-d591436-Reviews-Art...  \n",
       "828  /Attraction_Review-g294265-d591435-Reviews-Art...  \n",
       "\n",
       "[829 rows x 3 columns]"
      ]
     },
     "execution_count": 20,
     "metadata": {},
     "output_type": "execute_result"
    }
   ],
   "source": [
    "poi_df = pd.read_csv('20191208_attractions_list.csv')\n",
    "poi_df"
   ]
  },
  {
   "cell_type": "code",
   "execution_count": 21,
   "metadata": {},
   "outputs": [
    {
     "data": {
      "text/plain": [
       "1"
      ]
     },
     "execution_count": 21,
     "metadata": {},
     "output_type": "execute_result"
    }
   ],
   "source": [
    "poi_df.iloc[0][0]"
   ]
  },
  {
   "cell_type": "code",
   "execution_count": null,
   "metadata": {},
   "outputs": [],
   "source": [
    "def url_parse(url):\n",
    "    return 'https://tripadvisor.com.sg' + url"
   ]
  }
 ],
 "metadata": {
  "kernelspec": {
   "display_name": "Python 3",
   "language": "python",
   "name": "python3"
  },
  "language_info": {
   "codemirror_mode": {
    "name": "ipython",
    "version": 3
   },
   "file_extension": ".py",
   "mimetype": "text/x-python",
   "name": "python",
   "nbconvert_exporter": "python",
   "pygments_lexer": "ipython3",
   "version": "3.7.5"
  }
 },
 "nbformat": 4,
 "nbformat_minor": 4
}
