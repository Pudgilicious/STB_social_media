{
 "cells": [
  {
   "cell_type": "code",
   "execution_count": 6,
   "metadata": {},
   "outputs": [],
   "source": [
    "import pandas as pd\n",
    "from os import listdir"
   ]
  },
  {
   "cell_type": "code",
   "execution_count": 2,
   "metadata": {},
   "outputs": [],
   "source": [
    "def print_number_of_duplicates(poi_index, folder_path, subset):\n",
    "    \n",
    "\n",
    "    attributes_df = pd.read_csv(folder_path + 'attributes.csv')\n",
    "    reviews_df = pd.read_csv(folder_path + '/reviews/{}.csv'.format(poi_index))\n",
    "    reviewers_df = pd.read_csv(folder_path + '/reviewers/{}.csv'.format(poi_index))\n",
    "    \n",
    "    number_of_duplicates = len(reviews_df[reviews_df.duplicated(subset=subset)])\n",
    "\n",
    "    print('POI_INDEX: {}, duplicates: {}'.format(i, number_of_duplicates))"
   ]
  },
  {
   "cell_type": "code",
   "execution_count": 18,
   "metadata": {},
   "outputs": [
    {
     "name": "stdout",
     "output_type": "stream",
     "text": [
      "POI_INDEX: 9, duplicates: 0\n",
      "POI_INDEX: 10, duplicates: 0\n",
      "POI_INDEX: 11, duplicates: 0\n",
      "POI_INDEX: 12, duplicates: 0\n",
      "POI_INDEX: 14, duplicates: 0\n",
      "POI_INDEX: 15, duplicates: 0\n",
      "POI_INDEX: 16, duplicates: 0\n",
      "POI_INDEX: 17, duplicates: 0\n",
      "POI_INDEX: 18, duplicates: 0\n",
      "POI_INDEX: 19, duplicates: 0\n",
      "POI_INDEX: 20, duplicates: 0\n",
      "POI_INDEX: 21, duplicates: 0\n",
      "POI_INDEX: 22, duplicates: 0\n",
      "POI_INDEX: 23, duplicates: 0\n",
      "POI_INDEX: 25, duplicates: 0\n",
      "POI_INDEX: 26, duplicates: 0\n",
      "POI_INDEX: 27, duplicates: 0\n",
      "POI_INDEX: 28, duplicates: 0\n",
      "POI_INDEX: 29, duplicates: 0\n",
      "POI_INDEX: 30, duplicates: 0\n",
      "POI_INDEX: 31, duplicates: 0\n",
      "POI_INDEX: 32, duplicates: 0\n",
      "POI_INDEX: 33, duplicates: 0\n",
      "POI_INDEX: 34, duplicates: 0\n"
     ]
    }
   ],
   "source": [
    "folder_path = './finalised_output/200129_172433/'\n",
    "csv_list = listdir(folder_path + 'reviews')\n",
    "csv_list = sorted([int(i[:i.find('.csv')]) for i in csv_list])\n",
    "\n",
    "for i in csv_list:\n",
    "    try:\n",
    "        print_number_of_duplicates(i, folder_path, ['REVIEW_ID'])\n",
    "    except:\n",
    "        print(\"No POI.\")"
   ]
  }
 ],
 "metadata": {
  "kernelspec": {
   "display_name": "Python 3",
   "language": "python",
   "name": "python3"
  },
  "language_info": {
   "codemirror_mode": {
    "name": "ipython",
    "version": 3
   },
   "file_extension": ".py",
   "mimetype": "text/x-python",
   "name": "python",
   "nbconvert_exporter": "python",
   "pygments_lexer": "ipython3",
   "version": "3.7.4"
  }
 },
 "nbformat": 4,
 "nbformat_minor": 4
}
