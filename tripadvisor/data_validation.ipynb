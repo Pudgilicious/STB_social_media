{
 "cells": [
  {
   "cell_type": "code",
   "execution_count": 1,
   "metadata": {},
   "outputs": [],
   "source": [
    "import pandas as pd\n",
    "from os import listdir"
   ]
  },
  {
   "cell_type": "code",
   "execution_count": 2,
   "metadata": {},
   "outputs": [],
   "source": [
    "def print_number_of_duplicates(poi_index, folder_path, subset):\n",
    "    \n",
    "\n",
    "    attributes_df = pd.read_csv(folder_path + 'attributes.csv')\n",
    "    reviews_df = pd.read_csv(folder_path + '/reviews/{}.csv'.format(poi_index))\n",
    "    reviewers_df = pd.read_csv(folder_path + '/reviewers/{}.csv'.format(poi_index))\n",
    "    \n",
    "    number_of_duplicates = len(reviews_df[reviews_df.duplicated(subset=subset)])\n",
    "\n",
    "    print('POI_INDEX: {}, duplicates: {}'.format(i, number_of_duplicates))"
   ]
  },
  {
   "cell_type": "code",
   "execution_count": 16,
   "metadata": {},
   "outputs": [
    {
     "name": "stdout",
     "output_type": "stream",
     "text": [
      "POI_INDEX: 70, duplicates: 0\n",
      "POI_INDEX: 71, duplicates: 0\n",
      "POI_INDEX: 72, duplicates: 520\n",
      "POI_INDEX: 73, duplicates: 0\n",
      "POI_INDEX: 74, duplicates: 0\n",
      "POI_INDEX: 75, duplicates: 0\n",
      "POI_INDEX: 76, duplicates: 0\n",
      "POI_INDEX: 77, duplicates: 0\n",
      "POI_INDEX: 78, duplicates: 0\n",
      "POI_INDEX: 79, duplicates: 0\n",
      "POI_INDEX: 80, duplicates: 0\n",
      "POI_INDEX: 81, duplicates: 0\n",
      "POI_INDEX: 82, duplicates: 0\n",
      "POI_INDEX: 83, duplicates: 0\n",
      "POI_INDEX: 84, duplicates: 0\n",
      "POI_INDEX: 85, duplicates: 0\n",
      "POI_INDEX: 86, duplicates: 0\n"
     ]
    }
   ],
   "source": [
    "folder_path = './finalised_output/200131_161919/'\n",
    "csv_list = listdir(folder_path + 'reviews')\n",
    "csv_list = sorted([int(i[:i.find('.csv')]) for i in csv_list])\n",
    "\n",
    "for i in csv_list:\n",
    "    try:\n",
    "        print_number_of_duplicates(i, folder_path, ['REVIEW_ID'])\n",
    "    except:\n",
    "        print(\"No POI.\")"
   ]
  },
  {
   "cell_type": "code",
   "execution_count": null,
   "metadata": {},
   "outputs": [],
   "source": []
  }
 ],
 "metadata": {
  "kernelspec": {
   "display_name": "Python 3",
   "language": "python",
   "name": "python3"
  },
  "language_info": {
   "codemirror_mode": {
    "name": "ipython",
    "version": 3
   },
   "file_extension": ".py",
   "mimetype": "text/x-python",
   "name": "python",
   "nbconvert_exporter": "python",
   "pygments_lexer": "ipython3",
   "version": "3.7.6"
  }
 },
 "nbformat": 4,
 "nbformat_minor": 4
}
