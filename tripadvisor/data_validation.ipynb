{
 "cells": [
  {
   "cell_type": "code",
   "execution_count": 1,
   "metadata": {},
   "outputs": [],
   "source": [
    "import pandas as pd"
   ]
  },
  {
   "cell_type": "code",
   "execution_count": 2,
   "metadata": {},
   "outputs": [],
   "source": [
    "def print_number_of_duplicates(poi_index, folder_path, subset):\n",
    "    \n",
    "\n",
    "    attributes_df = pd.read_csv(folder_path + 'attributes.csv')\n",
    "    reviews_df = pd.read_csv(folder_path + '/reviews/{}.csv'.format(poi_index))\n",
    "    reviewers_df = pd.read_csv(folder_path + '/reviewers/{}.csv'.format(poi_index))\n",
    "    \n",
    "    number_of_duplicates = len(reviews_df[reviews_df.duplicated(subset=subset)])\n",
    "\n",
    "    print('POI_INDEX: {}, duplicates: {}'.format(i, number_of_duplicates))"
   ]
  },
  {
   "cell_type": "code",
   "execution_count": 10,
   "metadata": {},
   "outputs": [
    {
     "name": "stdout",
     "output_type": "stream",
     "text": [
      "POI_INDEX: 75, duplicates: 0\n",
      "POI_INDEX: 76, duplicates: 0\n",
      "POI_INDEX: 77, duplicates: 0\n",
      "POI_INDEX: 78, duplicates: 0\n",
      "POI_INDEX: 79, duplicates: 0\n",
      "POI_INDEX: 80, duplicates: 0\n",
      "POI_INDEX: 81, duplicates: 0\n",
      "POI_INDEX: 82, duplicates: 0\n",
      "POI_INDEX: 83, duplicates: 0\n",
      "POI_INDEX: 84, duplicates: 0\n",
      "POI_INDEX: 85, duplicates: 0\n",
      "POI_INDEX: 86, duplicates: 0\n",
      "POI_INDEX: 87, duplicates: 0\n",
      "No POI.\n",
      "No POI.\n",
      "No POI.\n",
      "No POI.\n",
      "No POI.\n",
      "No POI.\n",
      "No POI.\n",
      "No POI.\n",
      "No POI.\n",
      "No POI.\n",
      "No POI.\n",
      "No POI.\n"
     ]
    }
   ],
   "source": [
    "folder_path = './output/200131_161919/'\n",
    "\n",
    "for i in range (75,100):\n",
    "    try:\n",
    "        print_number_of_duplicates(i, folder_path, ['REVIEW_ID'])\n",
    "    except:\n",
    "        print(\"No POI.\")"
   ]
  },
  {
   "cell_type": "code",
   "execution_count": 77,
   "metadata": {},
   "outputs": [
    {
     "data": {
      "text/html": [
       "<div>\n",
       "<style scoped>\n",
       "    .dataframe tbody tr th:only-of-type {\n",
       "        vertical-align: middle;\n",
       "    }\n",
       "\n",
       "    .dataframe tbody tr th {\n",
       "        vertical-align: top;\n",
       "    }\n",
       "\n",
       "    .dataframe thead th {\n",
       "        text-align: right;\n",
       "    }\n",
       "</style>\n",
       "<table border=\"1\" class=\"dataframe\">\n",
       "  <thead>\n",
       "    <tr style=\"text-align: right;\">\n",
       "      <th></th>\n",
       "      <th>REVIEW_INDEX</th>\n",
       "      <th>WEBSITE_INDEX</th>\n",
       "      <th>POI_INDEX</th>\n",
       "      <th>REVIEWER_URL</th>\n",
       "      <th>REVIEW_ID</th>\n",
       "      <th>REVIEW_DATE</th>\n",
       "      <th>REVIEW_RATING</th>\n",
       "      <th>REVIEW_TITLE</th>\n",
       "      <th>REVIEW_BODY</th>\n",
       "      <th>DATE_OF_EXPERIENCE</th>\n",
       "      <th>TRIP_TYPE</th>\n",
       "      <th>REVIEW_CRAWLED_TIME</th>\n",
       "    </tr>\n",
       "  </thead>\n",
       "  <tbody>\n",
       "    <tr>\n",
       "      <th>31</th>\n",
       "      <td>NaN</td>\n",
       "      <td>1</td>\n",
       "      <td>24</td>\n",
       "      <td>https://www.tripadvisor.com.sg/Profile/Bei W</td>\n",
       "      <td>623348046</td>\n",
       "      <td>09-10-2018</td>\n",
       "      <td>5</td>\n",
       "      <td>Excellent ART place</td>\n",
       "      <td>Level one, there is an children art activity g...</td>\n",
       "      <td>10-2018</td>\n",
       "      <td>Family</td>\n",
       "      <td>2020-01-30 04:13:18.598319</td>\n",
       "    </tr>\n",
       "    <tr>\n",
       "      <th>32</th>\n",
       "      <td>NaN</td>\n",
       "      <td>1</td>\n",
       "      <td>24</td>\n",
       "      <td>https://www.tripadvisor.com.sg/Profile/wsjd</td>\n",
       "      <td>622251266</td>\n",
       "      <td>05-10-2018</td>\n",
       "      <td>5</td>\n",
       "      <td>Fun trip for the whole family</td>\n",
       "      <td>With many games and activities for children, i...</td>\n",
       "      <td>10-2018</td>\n",
       "      <td>Family</td>\n",
       "      <td>2020-01-30 04:13:18.860539</td>\n",
       "    </tr>\n",
       "  </tbody>\n",
       "</table>\n",
       "</div>"
      ],
      "text/plain": [
       "    REVIEW_INDEX  WEBSITE_INDEX  POI_INDEX  \\\n",
       "31           NaN              1         24   \n",
       "32           NaN              1         24   \n",
       "\n",
       "                                    REVIEWER_URL  REVIEW_ID REVIEW_DATE  \\\n",
       "31  https://www.tripadvisor.com.sg/Profile/Bei W  623348046  09-10-2018   \n",
       "32   https://www.tripadvisor.com.sg/Profile/wsjd  622251266  05-10-2018   \n",
       "\n",
       "    REVIEW_RATING                   REVIEW_TITLE  \\\n",
       "31              5            Excellent ART place   \n",
       "32              5  Fun trip for the whole family   \n",
       "\n",
       "                                          REVIEW_BODY DATE_OF_EXPERIENCE  \\\n",
       "31  Level one, there is an children art activity g...            10-2018   \n",
       "32  With many games and activities for children, i...            10-2018   \n",
       "\n",
       "   TRIP_TYPE         REVIEW_CRAWLED_TIME  \n",
       "31    Family  2020-01-30 04:13:18.598319  \n",
       "32    Family  2020-01-30 04:13:18.860539  "
      ]
     },
     "execution_count": 77,
     "metadata": {},
     "output_type": "execute_result"
    }
   ],
   "source": [
    "folder_path = './output/200129_172433/'\n",
    "poi_index = 24\n",
    "\n",
    "attributes_df = pd.read_csv(folder_path + 'attributes.csv')\n",
    "reviews_df = pd.read_csv(folder_path + '/reviews/{}.csv'.format(poi_index))\n",
    "reviewers_df = pd.read_csv(folder_path + '/reviewers/{}.csv'.format(poi_index))\n",
    "\n",
    "reviews_df[reviews_df.duplicated(subset='REVIEW_BODY')].iloc[[0,1],]"
   ]
  },
  {
   "cell_type": "code",
   "execution_count": null,
   "metadata": {},
   "outputs": [],
   "source": [
    "folder_path = './output/200129_172433/'\n",
    "\n",
    "for i in range (9, 36):\n",
    "    print_number_of_duplicates(i, folder_path, ['REVIEW_ID'])"
   ]
  }
 ],
 "metadata": {
  "kernelspec": {
   "display_name": "Python 3",
   "language": "python",
   "name": "python3"
  },
  "language_info": {
   "codemirror_mode": {
    "name": "ipython",
    "version": 3
   },
   "file_extension": ".py",
   "mimetype": "text/x-python",
   "name": "python",
   "nbconvert_exporter": "python",
   "pygments_lexer": "ipython3",
   "version": "3.7.5"
  }
 },
 "nbformat": 4,
 "nbformat_minor": 4
}
